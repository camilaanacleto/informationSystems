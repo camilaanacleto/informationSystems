{
 "cells": [
  {
   "cell_type": "markdown",
   "id": "a17d0be9",
   "metadata": {},
   "source": [
    "# Análise do corpus, pipeline e Bag of Words"
   ]
  },
  {
   "cell_type": "markdown",
   "id": "2bf9bc40",
   "metadata": {},
   "source": [
    "Neste notebook sera a análise de todo o corpus e também serão feitas as transformações básicas no dataset. \n",
    "O objetivo com este notebook é analisar todos os dados e gerar um csv que já contém todo o texto tokenizado e sem stop words. Além disso, sera gerado o resultado do modelo Bag of Words.\n",
    "Na imagem abaixo, contém um diagrama de como essas etapas funcionam e no decorrer do notebook será entrado em mais detalhes sobre cada etapa específica."
   ]
  },
  
  {
  "nbformat": 4,
  "nbformat_minor": 0,
  "metadata": {
    "colab": {
      "provenance": []
    },
    "kernelspec": {
      "name": "python3",
      "display_name": "Python 3"
    },
    "language_info": {
      "name": "python"
    }
  },
  "cells": [
    {
      "cell_type": "code",
      "source": [
        "#Importando as bibliotecas: \n",
        "import pandas as pd\n",
        "import nltk\n",
        "import string  \n",
        "import matplotlib.pyplot as plt\n",
        "from nltk.tokenize import word_tokenize\n",
        "from nltk.corpus import stopwords\n",
        "from nltk.stem import WordNetLemmatizer\n",
        "from google.colab import drive\n",
        "nltk.download('punkt')\n",
        "nltk.download('stopwords')\n",
        "nltk.download('wordnet')\n",
        "stop_words = set(stopwords.words('portuguese'))"
      ],
      "metadata": {
        "colab": {
          "base_uri": "https://localhost:8080/"
        },
        "id": "rulM4cRFN3_O",
        "outputId": "8e4314ff-c545-4fe8-dacf-60f0526d9fb9"
      },
      "execution_count": 69,
      "outputs": [
        {
          "output_type": "stream",
          "name": "stderr",
          "text": [
            "[nltk_data] Downloading package punkt to /root/nltk_data...\n",
            "[nltk_data]   Package punkt is already up-to-date!\n",
            "[nltk_data] Downloading package stopwords to /root/nltk_data...\n",
            "[nltk_data]   Package stopwords is already up-to-date!\n",
            "[nltk_data] Downloading package wordnet to /root/nltk_data...\n",
            "[nltk_data]   Package wordnet is already up-to-date!\n"
          ]
        }
      ]
    },
    {
      "cell_type": "code",
      "execution_count": 70,
      "metadata": {
        "colab": {
          "base_uri": "https://localhost:8080/"
        },
        "id": "1t4YCi8pDcZC",
        "outputId": "422cba58-368a-4aed-bf3f-255f2b760467"
      },
      "outputs": [
        {
          "output_type": "stream",
          "name": "stdout",
          "text": [
            "Drive already mounted at /content/drive; to attempt to forcibly remount, call drive.mount(\"/content/drive\", force_remount=True).\n"
          ]
        }
      ],
      "source": [
        "#Montando drive\n",
        "drive.mount('/content/drive')"
      ]
    },
    {
      "cell_type": "code",
      "source": [
        "#Bases de dados geradas em .csv após cada pré-processamento. Elas estão disponíveis no github do grupo.\n",
        "df = pd.read_excel('/content/drive/MyDrive/Colab Notebooks/BASE-ATUAL.xlsx')\n",
        "df_tratamentoInicial = pd.read_csv('/content/drive/MyDrive/Colab Notebooks/resultado.csv')\n",
        "df_tokenizaçãoStopWords = pd.read_csv('/content/drive/MyDrive/df_tokenizaçãoStopWords.csv')\n",
        "df_bagOfWords = pd.read_csv('/content/drive/MyDrive/df_bagOfWords.csv')"
      ],
      "metadata": {
        "id": "kp6hg-7UDw39",
        "colab": {
          "base_uri": "https://localhost:8080/"
        },
        "outputId": "4b6e768a-9ce9-40d2-86a6-b59df32e4351"
      },
      "execution_count": 71,
      "outputs": [
        {
          "output_type": "stream",
          "name": "stderr",
          "text": [
            "/usr/local/lib/python3.10/dist-packages/openpyxl/worksheet/_reader.py:312: UserWarning: Unknown extension is not supported and will be removed\n",
            "  warn(msg)\n"
          ]
        }
      ]
    },
    {
      "cell_type": "code",
      "source": [
        "from google.colab import drive\n",
        "drive.mount('/content/drive')"
      ],
      "metadata": {
        "id": "a3Qn8A2W916F",
        "colab": {
          "base_uri": "https://localhost:8080/"
        },
        "outputId": "b2bff23f-ba59-4bda-c7ce-68355daf8d61"
      },
      "execution_count": 72,
      "outputs": [
        {
          "output_type": "stream",
          "name": "stdout",
          "text": [
            "Drive already mounted at /content/drive; to attempt to forcibly remount, call drive.mount(\"/content/drive\", force_remount=True).\n"
          ]
        }
      ]
    },
    {
      "cell_type": "markdown",
      "source": [
        "Análise da porcentagem dos comentários do BTG Pactual em relação aos outros comentários dos usuários no Instagram. "
      ],
      "metadata": {
        "id": "QBDwASWRqKlB"
      }
    },
    {
      "cell_type": "code",
      "source": [
        "# Contagem de comentários feitos pelo BTG Pactual\n",
        "num_comentarios_btg = len(df[df['\"autor\"'] == 'btgpactual'])\n",
        "\n",
        "# Contagem de comentários feitos por outros usuários\n",
        "num_comentarios_outros = len(df[df['\"autor\"'] != 'btgpactual'])\n",
        "\n",
        "# Cálculo das porcentagens\n",
        "total_comentarios = num_comentarios_btg + num_comentarios_outros\n",
        "porcentagem_btg = (num_comentarios_btg / total_comentarios) * 100\n",
        "porcentagem_outros = (num_comentarios_outros / total_comentarios) * 100\n",
        "\n",
        "\n",
        "# Definindo as cores\n",
        "cores = ['#195AB4', '#CFCFCF']\n",
        "\n",
        "# Criação do gráfico de pizza\n",
        "labels = ['BTG Pactual', 'Outros']\n",
        "sizes = [porcentagem_btg, porcentagem_outros]\n",
        "fig1, ax1 = plt.subplots()\n",
        "ax1.pie(sizes, labels=labels, autopct='%1.1f%%',\n",
        "        shadow=True, startangle=100, colors=cores)\n",
        "ax1.axis('equal')\n",
        "ax1.set_title('Porcentagem da distribuição de comentários do BTG Pactual (@btgpactual) \\n vs outros usuários do Instagram')\n",
        "ax1.legend(title='Categorias', loc='center right', bbox_to_anchor=(1.3, 0.1))\n",
        "plt.show()\n"
      ],
      "metadata": {
        "colab": {
          "base_uri": "https://localhost:8080/",
          "height": 453
        },
        "id": "3qWI0mXOPPp5",
        "outputId": "7f6a5304-d76a-4d99-876d-d212002983fa"
      },
      "execution_count": 90,
      "outputs": [
        {
          "output_type": "display_data",
          "data": {
            "text/plain": [
              "<Figure size 640x480 with 1 Axes>"
            ],
            "image/png": "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\n"
          },
          "metadata": {}
        }
      ]
    },
    {
      "cell_type": "markdown",
      "source": [
        "Análise da quantidade de palavras após cada etapa do pré-processamento:"
      ],
      "metadata": {
        "id": "LN10NCIRpRTD"
      }
    },
    {
      "cell_type": "code",
      "source": [
        "# Base original fornecida pelo BTG Pactual (df)\n",
        "df['Num Palavras'] = df['\"texto\"'].apply(lambda x: len(nltk.word_tokenize(x)))\n",
        "print(\"Quantidade de palavras na coluna 'texto' da base original: \", df['\"texto\"'].str.split().str.len().sum())\n",
        "\n",
        "# Base após remoção dos comentários do BTG Pactual (df_tratamentoInicial)\n",
        "df_tratamentoInicial['Num Palavras'] = df_tratamentoInicial['texto'].apply(lambda x: len(nltk.word_tokenize(x)))\n",
        "print(\"Quantidade de palavras na coluna 'texto' - dfClean: \", df_tratamentoInicial['texto'].str.split().str.len().sum())\n",
        "\n",
        "# Base após tokenização e remoção de stopwords (df_tokenizaçãoStopWords)\n",
        "df_tokenizaçãoStopWords['Num Palavras'] = df_tokenizaçãoStopWords['Frases_sem_stop_words'].apply(lambda x: len(nltk.word_tokenize(x)))\n",
        "print(\"Quantidade de palavras na coluna 'texto' - df_semstopwords: \", df_tokenizaçãoStopWords['Frases_sem_stop_words'].str.split().str.len().sum())\n",
        "\n",
        "# Base após bag of words (df_bagOfWords)\n",
        "df_bagOfWords['Num Palavras'] = df_bagOfWords['Palavra'].apply(lambda x: len(nltk.word_tokenize(x)))\n",
        "print(\"Quantidade de palavras na coluna 'Palavra' - df_final: \", df_bagOfWords['Palavra'].str.split().str.len().sum())\n"
      ],
      "metadata": {
        "colab": {
          "base_uri": "https://localhost:8080/"
        },
        "id": "oe2iSYGufCAf",
        "outputId": "fef901d4-6c37-43da-8da2-e14abe1ede55"
      },
      "execution_count": 78,
      "outputs": [
        {
          "output_type": "stream",
          "name": "stdout",
          "text": [
            "Quantidade de palavras na coluna 'texto' da base original:  522820\n",
            "Quantidade de palavras na coluna 'texto' - dfClean:  96218\n",
            "Quantidade de palavras na coluna 'texto' - df_semstopwords:  42283\n",
            "Quantidade de palavras na coluna 'Palavra' - df_final:  7597\n"
          ]
        }
      ]
    },
    {
      "cell_type": "code",
      "source": [
        "# Gráfico dos resultados das palavras após cada etapa do pré-processamento.\n",
        "\n",
        "# Definindo a quantidade de palavras em cada base\n",
        "word_count = [df['\"texto\"'].str.split().apply(len).sum(),\n",
        "              df_tratamentoInicial['texto'].str.split().apply(len).sum(),\n",
        "              df_tokenizaçãoStopWords['Frases_sem_stop_words'].str.split().apply(len).sum(),\n",
        "              df_bagOfWords['Palavra'].str.split().apply(len).sum()]\n",
        "\n",
        "# Definindo os rótulos para cada pré-processamento\n",
        "labels = ['Base Original', 'Limpeza Inicial', 'Tokenização e Remoção Stop Words', 'Bag of Words']\n",
        "\n",
        "# Criando um gráfico de barras\n",
        "fig, ax = plt.subplots(figsize=(12, 8))\n",
        "ax.bar(labels, word_count)\n",
        "\n",
        "# Adicionando rótulos aos eixos e título ao gráfico\n",
        "ax.set_xlabel('ETAPAS DO PRÉ-PROCESSAMENTO')\n",
        "ax.set_ylabel('QUANTIDADE DE PALAVRAS')\n",
        "ax.set_title('Quantidade de palavras na coluna referente aos comentários \\n dos clientes após cada etapa de pré-processamento')\n",
        "\n",
        "# Adicionando os números de palavras acima de cada barra\n",
        "for i, v in enumerate(word_count):\n",
        "    ax.text(i, v + 10000, str(v), ha='center')\n",
        "\n",
        "colors = ['#001E62', '#0A1E8C', '#195AB4', '#418FDE']\n",
        "ax.bar(labels, word_count, color=colors)\n",
        "\n",
        "# Mostrando o gráfico\n",
        "plt.show()\n"
      ],
      "metadata": {
        "colab": {
          "base_uri": "https://localhost:8080/",
          "height": 740
        },
        "id": "CtQ6DJSFRfCW",
        "outputId": "ff1afd68-bac3-4d6e-a695-b24f5d8670e2"
      },
      "execution_count": 80,
      "outputs": [
        {
          "output_type": "display_data",
          "data": {
            "text/plain": [
              "<Figure size 1200x800 with 1 Axes>"
            ],
            "image/png": "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\n"
          },
          "metadata": {}
        }
      ]
    },
    {
      "cell_type": "markdown",
      "source": [
        "Análise do número de linhas e colunas da primeira e da última base."
      ],
      "metadata": {
        "id": "gk3PQatN_vQe"
      }
    },
    {
      "cell_type": "code",
      "source": [
        "import matplotlib.pyplot as plt\n",
        "\n",
        "# quantidade de linhas e colunas em df\n",
        "num_linhas_df = df.shape[0]\n",
        "num_colunas_df = df.shape[1]\n",
        "\n",
        "# quantidade de linhas e colunas em df_bagOfWords\n",
        "num_linhas_df_final = df_bagOfWords.shape[0]\n",
        "num_colunas_df_final = df_bagOfWords.shape[1]\n",
        "\n",
        "# Gráfico de barras para as linhas\n",
        "fig, ax = plt.subplots()\n",
        "rects1 = ax.bar(['df', 'df_bagOfWords'], [num_linhas_df, num_linhas_df_final])\n",
        "ax.set_title('Comparação do número de linhas')\n",
        "ax.set_ylabel('Número de linhas')\n",
        "\n",
        "# Adiciona o número respectivo em cima de cada barra\n",
        "def autolabel(rects):\n",
        "    for rect in rects:\n",
        "        height = rect.get_height()\n",
        "        ax.annotate('{}'.format(height),\n",
        "                    xy=(rect.get_x() + rect.get_width() / 2, height),\n",
        "                    xytext=(0, 3),  # desloca o texto 3 pontos acima\n",
        "                    textcoords=\"offset points\",\n",
        "                    ha='center', va='bottom')\n",
        "\n",
        "autolabel(rects1)\n",
        "plt.show()\n",
        "\n",
        "# Gráfico de barras para as colunas\n",
        "fig, ax = plt.subplots()\n",
        "rects2 = ax.bar(['df', 'df_bagOfWords'], [num_colunas_df, num_colunas_df_final])\n",
        "ax.set_title('Comparação do número de colunas')\n",
        "ax.set_ylabel('Número de colunas')\n",
        "\n",
        "# Adiciona o número respectivo em cima de cada barra\n",
        "autolabel(rects2)\n",
        "plt.show()\n"
      ],
      "metadata": {
        "colab": {
          "base_uri": "https://localhost:8080/",
          "height": 889
        },
        "id": "B9lzDgI-DFzi",
        "outputId": "7cce2fc2-960e-46fb-f2a0-441a4ac95e8c"
      },
      "execution_count": 96,
      "outputs": [
        {
          "output_type": "display_data",
          "data": {
            "text/plain": [
              "<Figure size 640x480 with 1 Axes>"
            ],
            "image/png": "iVBORw0KGgoAAAANSUhEUgAAAk0AAAG0CAYAAAAvjxMUAAAAOXRFWHRTb2Z0d2FyZQBNYXRwbG90bGliIHZlcnNpb24zLjcuMSwgaHR0cHM6Ly9tYXRwbG90bGliLm9yZy/bCgiHAAAACXBIWXMAAA9hAAAPYQGoP6dpAABNq0lEQVR4nO3dd3RU5fr28WsCaZQktDSIgCA9AhKB0JFIkGYUCx004FEBQVTKkQ5H2gHpIipFRQ+iNEHQ0BVCB5EqIk0hAYUk9ITkef/wzf4xJMAOJibA97PWrMU8+5697z2FubLnmT0OY4wRAAAAbskluxsAAAC4GxCaAAAAbCA0AQAA2EBoAgAAsIHQBAAAYAOhCQAAwAZCEwAAgA2EJgAAABsITQCQBTZt2qShQ4fqjz/+yO5WAGQSQhOATNe6dWvlz59fb775ps6dOycfHx/FxcVl+XZnz54th8Oho0ePZvm2biUmJkYRERFycXFR4cKFs7WXf8rRo0flcDg0e/bsTFunw+HQkCFDrOt/5/FNve22bdsyrT/cfwhNgKTDhw/rX//6lx588EF5eHjIy8tLtWvX1sSJE3X58uXsbu+usm/fPq1du1ZDhw7VkiVLVKhQIYWFhcnHxye7W/tHJCcnq02bNmrZsqUGDhyY3e0AyES5s7sBILstW7ZMzz77rNzd3dWxY0dVqlRJiYmJ+uGHH/TWW29p7969mjFjRna3edd48MEHtX37dhUtWlS9evVSTEyMAgICsrutf8zBgwfVrFkzvf7669ndyj2nQ4cOat26tdzd3bO7FdynCE24rx05ckStW7dW8eLFtXr1aqc3927duumXX37RsmXLsrHDrJOSkqLExER5eHhk6no9PDxUtGhRSZKLi4sCAwMzdf05XYUKFVShQoXsbiNdWfWY/1Ny5cqlXLlyZXcbuI/x8Rzua2PGjNGFCxf00UcfpXs0pHTp0urZs6d1/dq1axo+fLhKlSold3d3lShRQv/+97919epVp9uVKFFCzZs319q1axUSEiJPT08FBwdr7dq1kqQFCxYoODhYHh4eqlatmnbu3Ol0+86dOytfvnz69ddfFR4errx58yowMFDDhg2TMcap9r///a9q1aqlQoUKydPTU9WqVdOXX36ZZl8cDoe6d++uuXPnqmLFinJ3d9eKFSsytA5J+vTTT1W9enXlyZNHBQoUUL169fTdd99ZyxcuXKimTZsqMDBQ7u7uKlWqlIYPH67k5OQ065o/f76qVasmT09PFS5cWO3bt9fvv/+e7nZvtHfvXj322GPy9PRUsWLFNGLECKWkpKRbO23aNGufAwMD1a1bN1tzrIYMGSKHw6FffvlFnTt3lo+Pj7y9vfXCCy/o0qVLVt2t5vPcOC8ndZ0///yz2rdvL29vbxUpUkQDBw6UMUYnTpzQk08+KS8vL/n7+2vcuHFp1nn16lUNHjxYpUuXlru7u4KCgtSnT580z8NbPeY7d+7UE088IS8vL+XLl0+NGjXSpk2bbnufSFJcXJw6d+4sb29v+fj4qFOnTje9Pw8cOKBnnnlGBQsWlIeHh0JCQrRkyRJb27lRenOaUl9rP/zwg6pXry4PDw89+OCD+vjjj9Ndx9WrV9W7d28VKVJEefPm1VNPPaUzZ8441SxevFjNmjW77XP40KFDatWqlfz9/eXh4aFixYqpdevWio+Pv6P9w13AAPexokWLmgcffNB2fadOnYwk88wzz5ipU6eajh07GkkmIiLCqa548eKmbNmyJiAgwAwZMsS8++67pmjRoiZfvnzm008/NQ888IAZNWqUGTVqlPH29jalS5c2ycnJTtvx8PAwDz30kOnQoYOZMmWKad68uZFkBg4c6LStYsWKmVdffdVMmTLFjB8/3lSvXt1IMkuXLnWqk2TKly9vihQpYoYOHWqmTp1qdu7cmaF1DBkyxEgytWrVMmPHjjUTJ040bdu2NX379rVqmjdvbp577jkzduxYM23aNPPss88aSebNN990WtesWbOMJPPoo4+ad9991/Tr1894enqaEiVKmHPnzt3ycTh16pQpUqSIKVCggBkyZIgZO3aseeihh8zDDz9sJJkjR45YtYMHDzaSTFhYmJk8ebLp3r27yZUrl3n00UdNYmLiLbeTetuqVauap59+2kybNs106dLFSDJ9+vSx6o4cOWIkmVmzZqVZhyQzePDgNOusUqWKadOmjZk2bZpp1qyZkWTGjx9vypYta1555RUzbdo0U7t2bSPJrFu3zrp9cnKyady4scmTJ4/p1auXef/990337t1N7ty5zZNPPplm2+k95nv27DF58+Y1AQEBZvjw4WbUqFGmZMmSxt3d3WzatOmW90lKSoqpV6+ecXFxMa+++qqZPHmyeeyxx6z7/vr7YM+ePcbb29tUqFDBjB492kyZMsXUq1fPOBwOs2DBgltuJ737LvU5c/3jm/pa8/PzM//+97/NlClTzCOPPGIcDofZs2dPmttWrVrVPPbYY2by5MnmjTfeMLly5TLPPfec03YjIiKs5/B7772X7nP46tWrpmTJkiYwMNCMGDHCfPjhh2bo0KHm0UcfNUePHr3tvuHuRGjCfSs+Pt5ISvNGczO7du0ykkyXLl2cxt98800jyaxevdoaK168uJFkNm7caI19++23RpLx9PQ0x44ds8bff/99I8msWbPGGksNZz169LDGUlJSTLNmzYybm5s5c+aMNX7p0iWnfhITE02lSpXMY4895jQuybi4uJi9e/em2Tc76zh06JBxcXExTz31lFPAS+0t1cWLF9Os/1//+pfJkyePuXLlirV+X19fU6lSJXP58mWrbunSpUaSGTRoUJp1XK9Xr15Gktm8ebM1dvr0aePt7e30pnr69Gnj5uZmGjdu7NTzlClTjCQzc+bMW24nNeC8+OKLTuNPPfWUKVSokHX9TkLTSy+9ZI1du3bNFCtWzDgcDjNq1Chr/Ny5c8bT09N06tTJGvvkk0+Mi4uL+f777522M336dCPJbNiwwWnb6T3mERERxs3NzRw+fNgaO3nypMmfP7+pV6/eLe+TRYsWGUlmzJgxTv3XrVs3zX3QqFEjExwcbD3uxvz1XKlVq5Z56KGHbrmd1P7thCZJZv369dbY6dOnjbu7u3njjTfS3DYsLMzp+fr666+bXLlymbi4OGvsxteDMWmfwzt37jSSzPz582+7H7h38PEc7lsJCQmSpPz589uq/+abbyRJvXv3dhp/4403JCnN3KcKFSooNDTUul6jRg1J0mOPPaYHHnggzfivv/6aZpvdu3e3/p36UUtiYqJWrlxpjXt6elr/PnfunOLj41W3bl3t2LEjzfrq16+f7nwbO+tYtGiRUlJSNGjQILm4OP/X4XA4rH/nyZPH+vf58+f1xx9/qG7durp06ZIOHDggSdq2bZtOnz6tV1991Wl+TbNmzVSuXLnbziP75ptvVLNmTVWvXt0aK1KkiNq1a+dUt3LlSiUmJqpXr15OPXft2lVeXl6256u9/PLLTtfr1q2rP//803oO3YkuXbpY/86VK5dCQkJkjFFkZKQ17uPjo7Jlyzo9N+bPn6/y5curXLly+uOPP6zLY489Jklas2aN03ZufMyTk5P13XffKSIiQg8++KA1HhAQoLZt2+qHH3645X598803yp07t1555RWn/nv06OFUd/bsWa1evVrPPfec9Tz4448/9Oeffyo8PFyHDh2y/VHs7VSoUEF169a1rhcpUiTN/ZbqpZdecnq+1q1bV8nJyTp27Jg1dv3r4WbPYW9vb0nSt99+6/RRLe5tTATHfcvLy0vSX/8p2nHs2DG5uLiodOnSTuP+/v7y8fFx+k9XklMwkv7vP9mgoKB0x8+dO+c07uLi4vSmJkllypSRJKc5HUuXLtWIESO0a9cupzkt178xpCpZsmS6+2ZnHYcPH5aLi8ttJznv3btXAwYM0OrVq9O8+abO9Ui9r8qWLZvm9uXKldMPP/xwy20cO3bMCpvXu3F9N9uOm5ubHnzwwTSP2c3c+FgWKFBA0l+PWerzKKPSe354eHikOa+Tt7e3/vzzT+v6oUOHtH//fhUpUiTd9Z4+fdrp+o2P+ZkzZ3Tp0qV07/vy5csrJSVFJ06cUMWKFdNd/7FjxxQQEKB8+fI5jd+4vl9++UXGGA0cOPCmp144ffq09aWBv+PG+1L66zG68TWVXu31j2UqO8/hkiVLqnfv3ho/frzmzp2runXrqmXLltY8NdybCE24b3l5eSkwMFB79uzJ0O3SCyPpudm3fG42bm6Y4G3H999/r5YtW6pevXqaNm2aAgIC5OrqqlmzZumzzz5LU3/9X9B3uo5biYuLU/369eXl5aVhw4apVKlS8vDw0I4dO9S3b9+bTtTO6W73mN3sOZHe5PdbrdPOcyMlJUXBwcEaP358urU3hvL0HvN/Qupj/eabbyo8PDzdmhv/ALlTGXlN3a42I8/hcePGqXPnzlq8eLG+++47vfbaaxo5cqQ2bdqkYsWKZcKeIachNOG+1rx5c82YMUPR0dFOH6Wlp3jx4kpJSdGhQ4dUvnx5azw2NlZxcXEqXrx4pvaWkpKiX3/91Tq6JEk///yzpL++MSRJX331lTw8PPTtt986nbtm1qxZtrdjdx2lSpVSSkqK9u3bpypVqqS7rrVr1+rPP//UggULVK9ePWv8yJEjTnWp99XBgwetj5VSHTx48Lb3ZfHixXXo0KE04wcPHrzpdq4/apeYmKgjR44oLCzsltuxK/VoxY3fILN7JCsjSpUqpR9//FGNGjWyHeCvV6RIEeXJkyfNfSX99U03FxeXNMHresWLF9eqVat04cIFp6NNN64v9f52dXXNtPv5n2D3OZwqODhYwcHBGjBggDZu3KjatWtr+vTpGjFixD/VMv5BzGnCfa1Pnz7KmzevunTpotjY2DTLDx8+rIkTJ0qSmjZtKkmaMGGCU03qX/zNmjXL9P6mTJli/dsYoylTpsjV1VWNGjWS9NdfzQ6Hw+mIxtGjR7Vo0SLb27C7jtSfBRk2bFiaI0apf6Wn/hV//V/4iYmJmjZtmlN9SEiIfH19NX36dKePA5cvX679+/ff9r5s2rSpNm3apC1btlhjZ86c0dy5c53qwsLC5ObmpkmTJjn19NFHHyk+Pj7THjMvLy8VLlxY69evdxq/cb8zw3PPPafff/9dH3zwQZplly9f1sWLF295+1y5cqlx48ZavHix08e8sbGx+uyzz1SnTp1bfuTYtGlTXbt2Te+99541lpycrMmTJzvV+fr6qkGDBnr//fd16tSpNOu58Wv+OYXd53BCQoKuXbvmNBYcHCwXF5c0p37AvYMjTbivlSpVSp999pmef/55lS9f3umM4Bs3btT8+fPVuXNnSVLlypXVqVMnzZgxwzqEv2XLFs2ZM0cRERFq2LBhpvbm4eGhFStWqFOnTqpRo4aWL1+uZcuW6d///rc1n6VZs2YaP368mjRporZt2+r06dOaOnWqSpcurd27d9vajt11lC5dWm+//baGDx+uunXr6umnn5a7u7u2bt2qwMBAjRw5UrVq1VKBAgXUqVMnvfbaa3I4HPrkk0/SfEzi6uqq0aNH64UXXlD9+vXVpk0bxcbGauLEiSpRosRtz6bdp08fffLJJ2rSpIl69uypvHnzasaMGSpevLhTz0WKFFH//v01dOhQNWnSRC1bttTBgwc1bdo0Pfroo2rfvr3dh+O2unTpolGjRqlLly4KCQnR+vXrrSODmalDhw764osv9PLLL2vNmjWqXbu2kpOTdeDAAX3xxRf69ttvFRIScst1jBgxQlFRUapTp45effVV5c6dW++//76uXr2qMWPG3PK2LVq0UO3atdWvXz8dPXpUFSpU0IIFC9I9N9HUqVNVp04dBQcHq2vXrnrwwQcVGxur6Oho/fbbb/rxxx//1n2RFew+h1evXq3u3bvr2WefVZkyZXTt2jV98sknypUrl1q1apVN3SPLZcdX9oCc5ueffzZdu3Y1JUqUMG5ubiZ//vymdu3aZvLkyU5fl05KSjJDhw41JUuWNK6uriYoKMj079/fqcaYv74G3axZszTbkWS6devmNJb6dfWxY8daY506dTJ58+Y1hw8fts7J4+fnZwYPHpzm6/4fffSReeihh4y7u7spV66cmTVrlvW19tttO6PrMMaYmTNnmqpVqxpJRpKpX7++iYqKspZv2LDB1KxZ03h6eprAwEDTp08f63QL159WwRhj5s2bZ6pWrWrc3d1NwYIFTbt27cxvv/2Wbo832r17t6lfv77x8PAwRYsWNcOHDzcfffRRmq+kG/PXKQbKlStnXF1djZ+fn3nllVduey4oY/7v9ADXn+LBmPS/+n7p0iUTGRlpvL29Tf78+c1zzz1nTp8+fdNTDty4ztTH/Eb169c3FStWdBpLTEw0o0ePNhUrVjTu7u6mQIECplq1ambo0KEmPj7eqrvVY75jxw4THh5u8uXLZ/LkyWMaNmzodIqMW/nzzz9Nhw4djJeXl/H29jYdOnSwvoJ/42kXDh8+bDp27Gj8/f2Nq6urKVq0qGnevLn58ssvb7udG++7m51yIL3XWv369U39+vXT3Hbr1q1OdWvWrEnz3LTzHP7111/Niy++aEqVKmU8PDxMwYIFTcOGDc3KlStvu1+4ezmMuYPZpwCyVOfOnfXll1/qwoUL2d3KTR09elSPP/649u7dKzc3t+xuBwCyHHOaANyREiVKKF++fLc9PQAA3CuY0wQgw4YMGaLChQvr0KFDOfpoGABkJkITgAz7+OOPdfLkSTVs2PCm5+ABgHsNc5oAAABsYE4TAACADYQmAAAAGwhNAAAANjARPJOkpKTo5MmTyp8//x39HhQAAPjnGWN0/vx5BQYGysXl1seSCE2Z5OTJk7f8kUsAAJBznThxQsWKFbtlDaEpk+TPn1/SX3f6rX7sEtkjKipKmzZtUpUqVdS+fXvNnTtXzZs3lyTFx8erY8eO6tSpk4KDgxUXF6e+ffsqOTlZ69ats9YxdepUVa9eXX5+fjp16pQGDBhgrVv66xftH374YS1evFjly5e3blewYEG5urpKkubOnat+/fpp27Zt1nKHwyFfX98svw8AAGklJCQoKCjIeh+/FUJTJkn9SM7Ly4vQlAO1atXK+hHN9u3bK0+ePNbj5OXlpTVr1jjVv/fee6pevbri4uL0wAMPSJL69+9vLa9UqZIuX76siIgIeXp6ytXV1XrBPfDAA3rooYfS7cPT01MOh+OmywEA2cPO1BomggPpiI+Pl8PhkI+PT7rLz549q7lz56pWrVrWUaRULVu2lK+vr+rUqaMlS5akue2FCxdUvHhxBQUF6cknn9TevXuzYhcAAJmM0ATc4MqVK+rbt6/atGmT5qhh3759lTdvXhUqVEjHjx/X4sWLrWX58uXTuHHjNH/+fC1btkx16tRRRESEU3AqW7asZs6cqcWLF+vTTz9VSkqKatWqpd9+++0f2z8AwJ3hjOCZJCEhQd7e3oqPj+fjuRzO4XBo4cKFioiISLMsKSlJrVq10m+//aa1a9emeSz/+OMPnT17VseOHdPQoUPl7e2tpUuX3vSwbseOHXXkyBF9//336S5PSkpS+fLl1aZNGw0fPvxv7xsAIGMy8v7NnCbg/0tKStJzzz2nY8eOafXq1em+eAoXLqzChQurTJkyKl++vIKCgrRp0yaFhoamu84aNWpYE8XT4+rqqqpVq+qXX37JtP0AAGQNPp4D9H+B6dChQ1q5cqUKFSp029ukpKRIkq5evXrTml27dikgIOCmy5OTk/XTTz/dsgYAkDNwpAn3hQsXLjgdzTly5Ih27dqlggULKiAgQM8884x27NihpUuXKjk5WTExMZL+Ol2Am5ubNm/erK1bt6pOnToqUKCADh8+rIEDB6pUqVLWUaY5c+bIzc1NVatWlSQtWLBAM2fO1Icffmhtd9iwYapZs6ZKly6tuLg4jR07VseOHVOXLl3+wXsDAHAnCE24L2zbtk0NGza0rvfu3VuS1KlTJw0ZMsSarF2lShWn261Zs0YNGjRQnjx5tGDBAg0ePFgXL15UQECAmjRpogEDBsjd3d2qHz58uI4dO6bcuXOrXLlymjdvnp555hlr+blz59S1a1fFxMSoQIECqlatmjZu3KgKFSpk4d4DADIDE8EzCRPBAQC4+2Tk/Zs5TQAAADYQmgAAAGwgNAEAANhAaAIAALCB0AQAAGADoQkAAMAGztN0lyjRb1l2twDkWEdHNcvuFgDcBzjSBAAAYAOhCQAAwAZCEwAAgA2EJgAAABsITQAAADZka2hav369WrRoocDAQDkcDi1atMhalpSUpL59+yo4OFh58+ZVYGCgOnbsqJMnTzqt4+zZs2rXrp28vLzk4+OjyMhIXbhwwalm9+7dqlu3rjw8PBQUFKQxY8ak6WX+/PkqV66cPDw8FBwcrG+++SZL9hkAANydsjU0Xbx4UZUrV9bUqVPTLLt06ZJ27NihgQMHaseOHVqwYIEOHjyoli1bOtW1a9dOe/fuVVRUlJYuXar169frpZdespYnJCSocePGKl68uLZv366xY8dqyJAhmjFjhlWzceNGtWnTRpGRkdq5c6ciIiIUERGhPXv2ZN3OAwCAu4rDGGOyuwlJcjgcWrhwoSIiIm5as3XrVlWvXl3Hjh3TAw88oP3796tChQraunWrQkJCJEkrVqxQ06ZN9dtvvykwMFDvvfee3n77bcXExMjNzU2S1K9fPy1atEgHDhyQJD3//PO6ePGili5dam2rZs2aqlKliqZPn26r/4SEBHl7eys+Pl5eXl53eC/cHOdpAm6O8zQBuFMZef++q+Y0xcfHy+FwyMfHR5IUHR0tHx8fKzBJUlhYmFxcXLR582arpl69elZgkqTw8HAdPHhQ586ds2rCwsKcthUeHq7o6Oib9nL16lUlJCQ4XQAAwL3rrglNV65cUd++fdWmTRsrCcbExMjX19epLnfu3CpYsKBiYmKsGj8/P6ea1Ou3q0ldnp6RI0fK29vbugQFBf29HQQAADnaXRGakpKS9Nxzz8kYo/feey+725Ek9e/fX/Hx8dblxIkT2d0SAADIQjn+t+dSA9OxY8e0evVqp88b/f39dfr0aaf6a9eu6ezZs/L397dqYmNjnWpSr9+uJnV5etzd3eXu7n7nOwYAAO4qOfpIU2pgOnTokFauXKlChQo5LQ8NDVVcXJy2b99uja1evVopKSmqUaOGVbN+/XolJSVZNVFRUSpbtqwKFChg1axatcpp3VFRUQoNDc2qXQMAAHeZbA1NFy5c0K5du7Rr1y5J0pEjR7Rr1y4dP35cSUlJeuaZZ7Rt2zbNnTtXycnJiomJUUxMjBITEyVJ5cuXV5MmTdS1a1dt2bJFGzZsUPfu3dW6dWsFBgZKktq2bSs3NzdFRkZq7969mjdvniZOnKjevXtbffTs2VMrVqzQuHHjdODAAQ0ZMkTbtm1T9+7d//H7BAAA5EzZesqBtWvXqmHDhmnGO3XqpCFDhqhkyZLp3m7NmjVq0KCBpL9Obtm9e3d9/fXXcnFxUatWrTRp0iTly5fPqt+9e7e6deumrVu3qnDhwurRo4f69u3rtM758+drwIABOnr0qB566CGNGTNGTZs2tb0vnHIAyD6ccgDAncrI+3eOOU/T3Y7QBGQfQhOAO3XPnqcJAAAguxCaAAAAbCA0AQAA2EBoAgAAsIHQBAAAYAOhCQAAwAZCEwAAgA2EJgAAABsITQAAADYQmgAAAGwgNAEAANhAaAIAALCB0AQAAGADoQkAAMAGQhMAAIANhCYAAAAbCE0AAAA2EJoAAABsIDQBAADYQGgCAACwgdAEAABgA6EJAADABkITAACADYQmAAAAGwhNAAAANhCaAAAAbCA0AQAA2EBoAgAAsIHQBAAAYAOhCQAAwAZCEwAAgA2EJgAAABsITQAAADYQmgAAAGwgNAEAANhAaAIAALCB0AQAAGADoQkAAMAGQhMAAIANhCYAAAAbCE0AAAA2EJoAAABsIDQBAADYQGgCAACwgdAEAABgA6EJAADAhmwNTevXr1eLFi0UGBgoh8OhRYsWOS03xmjQoEEKCAiQp6enwsLCdOjQIaeas2fPql27dvLy8pKPj48iIyN14cIFp5rdu3erbt268vDwUFBQkMaMGZOml/nz56tcuXLy8PBQcHCwvvnmm0zfXwAAcPfK1tB08eJFVa5cWVOnTk13+ZgxYzRp0iRNnz5dmzdvVt68eRUeHq4rV65YNe3atdPevXsVFRWlpUuXav369XrppZes5QkJCWrcuLGKFy+u7du3a+zYsRoyZIhmzJhh1WzcuFFt2rRRZGSkdu7cqYiICEVERGjPnj1Zt/MAAOCu4jDGmOxuQpIcDocWLlyoiIgISX8dZQoMDNQbb7yhN998U5IUHx8vPz8/zZ49W61bt9b+/ftVoUIFbd26VSEhIZKkFStWqGnTpvrtt98UGBio9957T2+//bZiYmLk5uYmSerXr58WLVqkAwcOSJKef/55Xbx4UUuXLrX6qVmzpqpUqaLp06fb6j8hIUHe3t6Kj4+Xl5dXZt0tlhL9lmX6OoF7xdFRzbK7BQB3qYy8f+fYOU1HjhxRTEyMwsLCrDFvb2/VqFFD0dHRkqTo6Gj5+PhYgUmSwsLC5OLios2bN1s19erVswKTJIWHh+vgwYM6d+6cVXP9dlJrUreTnqtXryohIcHpAgAA7l05NjTFxMRIkvz8/JzG/fz8rGUxMTHy9fV1Wp47d24VLFjQqSa9dVy/jZvVpC5Pz8iRI+Xt7W1dgoKCMrqLAADgLpJjQ1NO179/f8XHx1uXEydOZHdLAAAgC+XY0OTv7y9Jio2NdRqPjY21lvn7++v06dNOy69du6azZ8861aS3juu3cbOa1OXpcXd3l5eXl9MFAADcu3JsaCpZsqT8/f21atUqaywhIUGbN29WaGioJCk0NFRxcXHavn27VbN69WqlpKSoRo0aVs369euVlJRk1URFRals2bIqUKCAVXP9dlJrUrcDAACQraHpwoUL2rVrl3bt2iXpr8nfu3bt0vHjx+VwONSrVy+NGDFCS5Ys0U8//aSOHTsqMDDQ+oZd+fLl1aRJE3Xt2lVbtmzRhg0b1L17d7Vu3VqBgYGSpLZt28rNzU2RkZHau3ev5s2bp4kTJ6p3795WHz179tSKFSs0btw4HThwQEOGDNG2bdvUvXv3f/ouAQAAOVTu7Nz4tm3b1LBhQ+t6apDp1KmTZs+erT59+ujixYt66aWXFBcXpzp16mjFihXy8PCwbjN37lx1795djRo1kouLi1q1aqVJkyZZy729vfXdd9+pW7duqlatmgoXLqxBgwY5ncupVq1a+uyzzzRgwAD9+9//1kMPPaRFixapUqVK/8C9AAAA7gY55jxNdzvO0wRkH87TBOBO3RPnaQIAAMhJCE0AAAA2EJoAAABsIDQBAADYQGgCAACwgdAEAABgA6EJAADABkITAACADYQmAAAAGwhNAAAANhCaAAAAbCA0AQAA2EBoAgAAsIHQBAAAYAOhCQAAwAZCEwAAgA2EJgAAABsITQAAADYQmgAAAGwgNAEAANhAaAIAALCB0AQAAGADoQkAAMAGQhMAAIANhCYAAAAbCE0AAAA2EJoAAABsIDQBAADYQGgCAACwgdAEAABgA6EJAADABkITAACADYQmAAAAGwhNAAAANmQ4NJ04cUK//fabdX3Lli3q1auXZsyYkamNAQAA5CQZDk1t27bVmjVrJEkxMTF6/PHHtWXLFr399tsaNmxYpjcIAACQE2Q4NO3Zs0fVq1eXJH3xxReqVKmSNm7cqLlz52r27NmZ3R8AAECOkOHQlJSUJHd3d0nSypUr1bJlS0lSuXLldOrUqcztDgAAIIfIcGiqWLGipk+fru+//15RUVFq0qSJJOnkyZMqVKhQpjcIAACQE2Q4NI0ePVrvv/++GjRooDZt2qhy5cqSpCVLllgf2wEAANxrcmf0Bg0aNNAff/yhhIQEFShQwBp/6aWXlCdPnkxtDgAAIKfIcGiSpFy5cjkFJkkqUaJEZvQDAACQI91RaPryyy/1xRdf6Pjx40pMTHRatmPHjkxpDAAAICfJ8JymSZMm6YUXXpCfn5927typ6tWrq1ChQvr111/1xBNPZEWPAAAA2S7DoWnatGmaMWOGJk+eLDc3N/Xp00dRUVF67bXXFB8fnxU9AgAAZLsMh6bjx4+rVq1akiRPT0+dP39ektShQwd9/vnnmdsdAAB3qESJEnI4HGku3bp1k/TXF5tuXPbyyy87rWPVqlWqVauW8ufPL39/f/Xt21fXrl2zlg8ZMiTdbeTNm/cf3Vf8MzIcmvz9/XX27FlJ0gMPPKBNmzZJko4cOSJjTKY2l5ycrIEDB6pkyZLy9PRUqVKlNHz4cKftGGM0aNAgBQQEyNPTU2FhYTp06JDTes6ePat27drJy8tLPj4+ioyM1IULF5xqdu/erbp168rDw0NBQUEaM2ZMpu4LAOCftXXrVp06dcq6REVFSZKeffZZq6Zr165ONdf/3//jjz+qadOmatKkiXbu3Kl58+ZpyZIl6tevn1Xz5ptvOt3+1KlTqlChgtM2cO/IcGh67LHHtGTJEknSCy+8oNdff12PP/64nn/+eT311FOZ2tzo0aP13nvvacqUKdq/f79Gjx6tMWPGaPLkyVbNmDFjNGnSJE2fPl2bN29W3rx5FR4eritXrlg17dq10969exUVFaWlS5dq/fr1eumll6zlCQkJaty4sYoXL67t27dr7NixGjJkCD9CDAB3sSJFisjf39+6LF26VKVKlVL9+vWtmjx58jjVeHl5WcvmzZunhx9+WIMGDVLp0qVVv359jRkzRlOnTrU+ZcmXL5/T7WNjY7Vv3z5FRkb+4/uLrJfhb8/NmDFDKSkpkqRu3bqpUKFC2rhxo1q2bKl//etfmdrcxo0b9eSTT6pZs2aS/jrU+vnnn2vLli2S/jrKNGHCBA0YMEBPPvmkJOnjjz+Wn5+fFi1apNatW2v//v1asWKFtm7dqpCQEEnS5MmT1bRpU/33v/9VYGCg5s6dq8TERM2cOVNubm6qWLGidu3apfHjxzuFKwDA3SkxMVGffvqpevfuLYfDYY3PnTtXn376qfz9/dWiRQsNHDjQOufg1atX5eHh4bQeT09PXblyRdu3b1eDBg3SbOfDDz9UmTJlVLdu3SzdH2SPDB9pcnFxUe7c/5e1WrdurUmTJqlHjx5yc3PL1OZq1aqlVatW6eeff5b016HSH374wfqW3pEjRxQTE6OwsDDrNt7e3qpRo4aio6MlSdHR0fLx8bECkySFhYXJxcVFmzdvtmrq1avn1H94eLgOHjyoc+fOpdvb1atXlZCQ4HQBAORMixYtUlxcnDp37myNtW3bVp9++qnWrFmj/v3765NPPlH79u2t5eHh4dq4caM+//xzJScn6/fff9ewYcMkKd3fWr1y5Yrmzp3LUaZ72B2dpykuLk5btmzR6dOnraNOqTp27JgpjUlSv379lJCQoHLlyilXrlxKTk7Wf/7zH7Vr106SFBMTI0ny8/Nzup2fn5+1LCYmRr6+vk7Lc+fOrYIFCzrVlCxZMs06UpfdeCJPSRo5cqSGDh2aCXsJAMhqH330kZ544gkFBgZaY9d/khAcHKyAgAA1atRIhw8fVqlSpdS4cWONHTtWL7/8sjp06CB3d3cNHDhQ33//vVxc0h5zWLhwoc6fP69OnTr9I/uEf16GQ9PXX3+tdu3a6cKFC/Ly8nI6zOlwODI1NH3xxReaO3euPvvsM+sjs169eikwMDDbn5T9+/dX7969resJCQkKCgrKxo4AAOk5duyYVq5cqQULFtyyrkaNGpKkX375RaVKlZIk9e7dW6+//rpOnTqlAgUK6OjRo+rfv78efPDBNLf/8MMP1bx58zR/yOPekeHQ9MYbb+jFF1/UO++8k+W/NffWW2+pX79+at26taS//hI4duyYRo4cqU6dOsnf31+SFBsbq4CAAOt2sbGxqlKliqS/vu13+vRpp/Veu3ZNZ8+etW6fOnnveqnXU2tu5O7uLnd397+/kwCALDVr1iz5+vpa82NvZteuXZLk9H4i/XVAIPUI1eeff66goCA98sgjTjVHjhzRmjVrrC9K4d6U4TlNv//+u1577bV/5Md5L126lOYQaK5cuayPBEuWLCl/f3+tWrXKWp6QkKDNmzcrNDRUkhQaGqq4uDht377dqlm9erVSUlKsvypCQ0O1fv16JSUlWTVRUVEqW7Zsuh/NAQDuDikpKZo1a5Y6derkNB/38OHDGj58uLZv366jR49qyZIl6tixo+rVq6eHH37Yqhs7dqx++ukn7d27V8OHD9eoUaM0adIk5cqVy2k7M2fOVEBAAL+McY/LcGgKDw/Xtm3bsqKXNFq0aKH//Oc/WrZsmY4ePaqFCxdq/Pjx1qkNHA6HevXqpREjRmjJkiX66aef1LFjRwUGBioiIkKSVL58eTVp0kRdu3bVli1btGHDBnXv3l2tW7e2/nJo27at3NzcFBkZqb1792revHmaOHGi08dvAIC7z8qVK3X8+HG9+OKLTuNubm5auXKlGjdurHLlyumNN95Qq1at9PXXXzvVLV++XHXr1lVISIiWLVumxYsXW+8vqVJSUjR79mx17tw5TZjCvcVhbJyR8vrDjWfOnNGwYcP0wgsvKDg4WK6urk61LVu2zLTmzp8/r4EDB2rhwoU6ffq0AgMD1aZNGw0aNMj6ppsxRoMHD9aMGTMUFxenOnXqaNq0aSpTpoy1nrNnz6p79+76+uuv5eLiolatWmnSpEnKly+fVbN7925169ZNW7duVeHChdWjRw/17dvXdq8JCQny9vZWfHy803k+MkuJfssyfZ3AveLoqFt/7AIAN5OR929boSm9bwmkuzKHQ8nJyfa6vMcQmoDsQ2gCcKcy8v5tayL4jacVAAAAuN9keE4TAADA/eiOTm65atUqrVq1Kt2TW86cOTNTGgMAAMhJMhyahg4dqmHDhikkJEQBAQFOJ7cEAAC4V2U4NE2fPl2zZ89Whw4dsqIfAACAHCnDoSkxMVG1atXKil4A4L7Gt2SBW8vub8pmeCJ4ly5d9Nlnn2VFLwAAADlWho80XblyRTNmzNDKlSv18MMPpzm55fjx4zOtOQAAgJwiw6Fp9+7d1o/h7tmzx2kZk8IBAMC9KsOhac2aNVnRBwAAQI7GyS0BAABssHWk6emnn9bs2bPl5eWlp59++pa1CxYsyJTGAAAAchJbocnb29uar+Tt7Z2lDQEAAOREtkLTrFmz0v03AADA/YI5TQAAADbYOtJUtWpV26cT2LFjx99qCAAAICeyFZoiIiKyuA0AAICczVZoGjx4cFb3AQAAkKMxpwkAAMAGQhMAAIANhCYAAAAbCE0AAAA23HFoSkxM1MGDB3Xt2rXM7AcAACBHynBounTpkiIjI5UnTx5VrFhRx48flyT16NFDo0aNyvQGAQAAcoIMh6b+/fvrxx9/1Nq1a+Xh4WGNh4WFad68eZnaHAAAQE5h6zxN11u0aJHmzZunmjVrOp0lvGLFijp8+HCmNgcAAJBTZPhI05kzZ+Tr65tm/OLFi7Z/agUAAOBuk+HQFBISomXLllnXU4PShx9+qNDQ0MzrDAAAIAfJ8Mdz77zzjp544gnt27dP165d08SJE7Vv3z5t3LhR69aty4oeAQAAsl2GjzTVqVNHu3bt0rVr1xQcHKzvvvtOvr6+io6OVrVq1bKiRwAAgGyX4SNNklSqVCl98MEHmd0LAABAjmUrNCUkJNheoZeX1x03AwAAkFPZCk0+Pj62vxmXnJz8txoCAADIiWyFpjVr1lj/Pnr0qPr166fOnTtb35aLjo7WnDlzNHLkyKzpEgAAIJvZCk3169e3/j1s2DCNHz9ebdq0scZatmyp4OBgzZgxQ506dcr8LgEAALJZhr89Fx0drZCQkDTjISEh2rJlS6Y0BQAAkNNkODQFBQWl+825Dz/8UEFBQZnSFAAAQE6T4VMOvPvuu2rVqpWWL1+uGjVqSJK2bNmiQ4cO6auvvsr0BgEAAHKCDB9patq0qQ4dOqSWLVvq7NmzOnv2rFq0aKGff/5ZTZs2zYoeAQAAst0dndyyWLFi+s9//pPZvQAAAORYGT7SBAAAcD8iNAEAANhAaAIAALCB0AQAAGDDHU0El6QzZ87o4MGDkqSyZcuqSJEimdYUAABATpPhI00XL17Uiy++qMDAQNWrV0/16tVTYGCgIiMjdenSpazoEQAAINtlODT17t1b69at05IlSxQXF6e4uDgtXrxY69at0xtvvJHpDf7+++9q3769ChUqJE9PTwUHB2vbtm3WcmOMBg0apICAAHl6eiosLEyHDh1yWsfZs2fVrl07eXl5ycfHR5GRkbpw4YJTze7du1W3bl15eHgoKChIY8aMyfR9AQAAd68Mh6avvvpKH330kZ544gl5eXnJy8tLTZs21QcffKAvv/wyU5s7d+6cateuLVdXVy1fvlz79u3TuHHjVKBAAatmzJgxmjRpkqZPn67Nmzcrb968Cg8P15UrV6yadu3aae/evYqKitLSpUu1fv16vfTSS9byhIQENW7cWMWLF9f27ds1duxYDRkyRDNmzMjU/QEAAHevDM9punTpkvz8/NKM+/r6ZvrHc6NHj1ZQUJBmzZpljZUsWdL6tzFGEyZM0IABA/Tkk09Kkj7++GP5+flp0aJFat26tfbv368VK1Zo69at1g8NT548WU2bNtV///tfBQYGau7cuUpMTNTMmTPl5uamihUrateuXRo/frxTuAIAAPevDB9pCg0N1eDBg52O5Fy+fFlDhw5VaGhopja3ZMkShYSE6Nlnn5Wvr6+qVq3q9GPBR44cUUxMjMLCwqwxb29v1ahRQ9HR0ZKk6Oho+fj4WIFJksLCwuTi4qLNmzdbNfXq1ZObm5tVEx4eroMHD+rcuXPp9nb16lUlJCQ4XQAAwL0rw6FpwoQJ2rBhg4oVK6ZGjRqpUaNGCgoK0saNGzVx4sRMbe7XX3/Ve++9p4ceekjffvutXnnlFb322muaM2eOJCkmJkaS0hz58vPzs5bFxMTI19fXaXnu3LlVsGBBp5r01nH9Nm40cuRIeXt7W5egoKC/ubcAACAny/DHc8HBwTp06JDmzp2rAwcOSJLatGmjdu3aydPTM1ObS0lJUUhIiN555x1JUtWqVbVnzx5Nnz5dnTp1ytRtZVT//v3Vu3dv63pCQgLBCQCAe1iGQlNSUpLKlSunpUuXqmvXrlnVkyUgIEAVKlRwGitfvry++uorSZK/v78kKTY2VgEBAVZNbGysqlSpYtWcPn3aaR3Xrl3T2bNnrdv7+/srNjbWqSb1emrNjdzd3eXu7n6HewYAAO42Gfp4ztXV1WkuU1arXbu2dQLNVD///LOKFy8u6a9J4f7+/lq1apW1PCEhQZs3b7bmV4WGhiouLk7bt2+3alavXq2UlBTVqFHDqlm/fr2SkpKsmqioKJUtW9bpm3oAAOD+leE5Td26ddPo0aN17dq1rOjHyeuvv65NmzbpnXfe0S+//KLPPvtMM2bMULdu3SRJDodDvXr10ogRI7RkyRL99NNP6tixowIDAxURESHpryNTTZo0UdeuXbVlyxZt2LBB3bt3V+vWrRUYGChJatu2rdzc3BQZGam9e/dq3rx5mjhxotPHbwAA4P6W4TlNW7du1apVq/Tdd98pODhYefPmdVq+YMGCTGvu0Ucf1cKFC9W/f38NGzZMJUuW1IQJE9SuXTurpk+fPrp48aJeeuklxcXFqU6dOlqxYoU8PDysmrlz56p79+5q1KiRXFxc1KpVK02aNMla7u3tre+++07dunVTtWrVVLhwYQ0aNIjTDQAAAIvDGGMycoMXXnjhlsuvP6fS/SQhIUHe3t6Kj4+Xl5dXpq+/RL9lmb5O4F5xdFSz7G4hU/A6B24tK17rGXn/zvCRpvs1FAEAgPtbhuc0SX99+2zlypV6//33df78eUnSyZMn0/yeGwAAwL0iw0eajh07piZNmuj48eO6evWqHn/8ceXPn1+jR4/W1atXNX369KzoEwAAIFtl+EhTz549FRISonPnzjmdzPKpp55y+uo/AADAvSTDR5q+//57bdy40el32iSpRIkS+v333zOtMQAAgJwkw0eaUlJSlJycnGb8t99+U/78+TOlKQAAgJwmw6GpcePGmjBhgnXd4XDowoULGjx4sJo2bZqZvQEAAOQYGf54bty4cQoPD1eFChV05coVtW3bVocOHVLhwoX1+eefZ0WPAAAA2S7DoalYsWL68ccf9b///U+7d+/WhQsXFBkZqXbt2jlNDAcAALiXZDg0SVLu3LnVvn37zO4FAAAgx7qj0HTy5En98MMPOn36tFJSUpyWvfbaa5nSGAAAQE6S4dA0e/Zs/etf/5Kbm5sKFSokh8NhLXM4HIQmAABwT8pwaBo4cKAGDRqk/v37y8Xljn6FBQAA4K6T4dRz6dIltW7dmsAEAADuKxlOPpGRkZo/f35W9AIAAJBjZfjjuZEjR6p58+ZasWKFgoOD5erq6rR8/PjxmdYcAABATnFHoenbb79V2bJlJSnNRHAAAIB70R2dEXzmzJnq3LlzFrQDAACQM2V4TpO7u7tq166dFb0AAADkWBkOTT179tTkyZOzohcAAIAcK8Mfz23ZskWrV6/W0qVLVbFixTQTwRcsWJBpzQEAAOQUGQ5NPj4+evrpp7OiFwAAgBwrw6Fp1qxZWdEHAABAjsZpvQEAAGzI8JGmkiVL3vJ8TL/++uvfaggAACAnum1o+vLLL1WzZk0VK1ZMktSrVy+n5UlJSdq5c6dWrFiht956K0uaBAAAyG63DU25c+dW3bp1tWjRIlWuXFk9e/ZMt27q1Knatm1bpjcIAACQE9x2TlNERITmzZunTp063bLuiSee0FdffZVpjQEAAOQktiaCV69eXevXr79lzZdffqmCBQtmSlMAAAA5je2J4F5eXpKkqlWrOk0EN8YoJiZGZ86c0bRp0zK/QwAAgBwgw9+ei4iIcLru4uKiIkWKqEGDBipXrlxm9QUAAJCjZDg0DR48OCv6AAAAyNE4uSUAAIANto80ubi43PKklpLkcDh07dq1v90UAABATmM7NC1cuPCmy6KjozVp0iSlpKRkSlMAAAA5je3Q9OSTT6YZO3jwoPr166evv/5a7dq107BhwzK1OQAAgJzijuY0nTx5Ul27dlVwcLCuXbumXbt2ac6cOSpevHhm9wcAAJAjZCg0xcfHq2/fvipdurT27t2rVatW6euvv1alSpWyqj8AAIAcwfbHc2PGjNHo0aPl7++vzz//PN2P6wAAAO5VtkNTv3795OnpqdKlS2vOnDmaM2dOunULFizItOYAAAByCtuhqWPHjrc95QAAAMC9ynZomj17dha2AQAAkLNxRnAAAAAbCE0AAAA2EJoAAABsIDQBAADYcFeFplGjRsnhcKhXr17W2JUrV9StWzcVKlRI+fLlU6tWrRQbG+t0u+PHj6tZs2bKkyePfH199dZbb6X5YeG1a9fqkUcekbu7u0qXLs3EdwAA4OSuCU1bt27V+++/r4cffthp/PXXX9fXX3+t+fPna926dTp58qSefvppa3lycrKaNWumxMREbdy4UXPmzNHs2bM1aNAgq+bIkSNq1qyZGjZsqF27dqlXr17q0qWLvv32239s/wAAQM52V4SmCxcuqF27dvrggw9UoEABazw+Pl4fffSRxo8fr8cee0zVqlXTrFmztHHjRm3atEmS9N1332nfvn369NNPVaVKFT3xxBMaPny4pk6dqsTEREnS9OnTVbJkSY0bN07ly5dX9+7d9cwzz+jdd9/Nlv0FAAA5z10Rmrp166ZmzZopLCzMaXz79u1KSkpyGi9XrpweeOABRUdHS5Kio6MVHBwsPz8/qyY8PFwJCQnau3evVXPjusPDw611pOfq1atKSEhwugAAgHuX7ZNbZpf//e9/2rFjh7Zu3ZpmWUxMjNzc3OTj4+M07ufnp5iYGKvm+sCUujx12a1qEhISdPnyZXl6eqbZ9siRIzV06NA73i8AAHB3ydFHmk6cOKGePXtq7ty58vDwyO52nPTv31/x8fHW5cSJE9ndEgAAyEI5OjRt375dp0+f1iOPPKLcuXMrd+7cWrdunSZNmqTcuXPLz89PiYmJiouLc7pdbGys/P39JUn+/v5pvk2Xev12NV5eXukeZZIkd3d3eXl5OV0AAMC9K0eHpkaNGumnn37Srl27rEtISIjatWtn/dvV1VWrVq2ybnPw4EEdP35coaGhkqTQ0FD99NNPOn36tFUTFRUlLy8vVahQwaq5fh2pNanrAAAAyNFzmvLnz69KlSo5jeXNm1eFChWyxiMjI9W7d28VLFhQXl5e6tGjh0JDQ1WzZk1JUuPGjVWhQgV16NBBY8aMUUxMjAYMGKBu3brJ3d1dkvTyyy9rypQp6tOnj1588UWtXr1aX3zxhZYtW/bP7jAAAMixcnRosuPdd9+Vi4uLWrVqpatXryo8PFzTpk2zlufKlUtLly7VK6+8otDQUOXNm1edOnXSsGHDrJqSJUtq2bJlev311zVx4kQVK1ZMH374ocLDw7NjlwAAQA7kMMaY7G7iXpCQkCBvb2/Fx8dnyfymEv046gXczNFRzbK7hUzB6xy4tax4rWfk/TtHz2kCAADIKQhNAAAANhCaAAAAbCA0AQAA2EBoAgAAsIHQBAAAYAOhCQAAwAZCEwAAgA2EJgAAABsITQAAADYQmgAAAGwgNAEAANhAaAIAALCB0AQAAGADoQkAAMAGQhMAAIANhCYAAAAbCE0AAAA2EJoAAABsIDQBAADYQGgCAACwgdAEAABgA6EJAADABkITAACADYQmAAAAGwhNAAAANhCaAAAAbCA0AQAA2EBoAgAAsIHQBAAAYAOhCQAAwAZCEwAAgA2EJgAAABsITQAAADYQmgAAAGwgNAEAANhAaAIAALCB0AQAAGADoQkAAMAGQhMAAIANhCYAAAAbCE0AAAA2EJoAAABsIDQBAADYQGgCAACwgdAEAABgQ44OTSNHjtSjjz6q/Pnzy9fXVxERETp48KBTzZUrV9StWzcVKlRI+fLlU6tWrRQbG+tUc/z4cTVr1kx58uSRr6+v3nrrLV27ds2pZu3atXrkkUfk7u6u0qVLa/bs2Vm9ewAA4C6So0PTunXr1K1bN23atElRUVFKSkpS48aNdfHiRavm9ddf19dff6358+dr3bp1OnnypJ5++mlreXJyspo1a6bExERt3LhRc+bM0ezZszVo0CCr5siRI2rWrJkaNmyoXbt2qVevXurSpYu+/fbbf3R/AQBAzuUwxpjsbsKuM2fOyNfXV+vWrVO9evUUHx+vIkWK6LPPPtMzzzwjSTpw4IDKly+v6Oho1axZU8uXL1fz5s118uRJ+fn5SZKmT5+uvn376syZM3Jzc1Pfvn21bNky7dmzx9pW69atFRcXpxUrVtjqLSEhQd7e3oqPj5eXl1em73uJfssyfZ3AveLoqGbZ3UKm4HUO3FpWvNYz8v6do4803Sg+Pl6SVLBgQUnS9u3blZSUpLCwMKumXLlyeuCBBxQdHS1Jio6OVnBwsBWYJCk8PFwJCQnau3evVXP9OlJrUteRnqtXryohIcHpAgAA7l13TWhKSUlRr169VLt2bVWqVEmSFBMTIzc3N/n4+DjV+vn5KSYmxqq5PjClLk9ddquahIQEXb58Od1+Ro4cKW9vb+sSFBT0t/cRAADkXHdNaOrWrZv27Nmj//3vf9ndiiSpf//+io+Pty4nTpzI7pYAAEAWyp3dDdjRvXt3LV26VOvXr1exYsWscX9/fyUmJiouLs7paFNsbKz8/f2tmi1btjitL/XbddfX3PiNu9jYWHl5ecnT0zPdntzd3eXu7v639w0AANwdcvSRJmOMunfvroULF2r16tUqWbKk0/Jq1arJ1dVVq1atssYOHjyo48ePKzQ0VJIUGhqqn376SadPn7ZqoqKi5OXlpQoVKlg1168jtSZ1HQAAADn6SFO3bt302WefafHixcqfP781B8nb21uenp7y9vZWZGSkevfurYIFC8rLy0s9evRQaGioatasKUlq3LixKlSooA4dOmjMmDGKiYnRgAED1K1bN+tI0csvv6wpU6aoT58+evHFF7V69Wp98cUXWraMb7IAAIC/5OgjTe+9957i4+PVoEEDBQQEWJd58+ZZNe+++66aN2+uVq1aqV69evL399eCBQus5bly5dLSpUuVK1cuhYaGqn379urYsaOGDRtm1ZQsWVLLli1TVFSUKleurHHjxunDDz9UeHj4P7q/AAAg57qrztOUk3GeJiD7cJ4m4P7AeZoAAADuAoQmAAAAGwhNAAAANhCaAAAAbCA0AQAA2EBoAgAAsIHQBAAAYAOhCQAAwAZCEwAAgA2EJgAAABsITQAAADYQmgAAAGwgNAEAANhAaAIAALCB0AQAAGADoQkAAMAGQhMAAIANhCYAAAAbCE0AAAA2EJoAAABsIDQBAADYQGgCAACwgdAEAABgA6EJAADABkITAACADYQmAAAAGwhNAAAANhCaAAAAbCA0AQAA2EBoAgAAsIHQBAAAYAOhCQAAwAZCEwAAgA2EJgAAABsITQAAADYQmgAAAGwgNAEAANhAaAIAALCB0AQAAGADoQkAAMAGQhMAAIANhCYAAAAbCE0AAAA2EJoAAABsIDQBAADYQGgCAACwgdB0g6lTp6pEiRLy8PBQjRo1tGXLluxuCQAA5ACEpuvMmzdPvXv31uDBg7Vjxw5VrlxZ4eHhOn36dHa3BgAAshmh6Trjx49X165d9cILL6hChQqaPn268uTJo5kzZ2Z3awAAIJvlzu4GcorExERt375d/fv3t8ZcXFwUFham6OjoNPVXr17V1atXrevx8fGSpISEhCzpL+XqpSxZL3AvyKrX3T+N1zlwa1nxWk9dpzHmtrWEpv/vjz/+UHJysvz8/JzG/fz8dODAgTT1I0eO1NChQ9OMBwUFZVmPANLnPSG7OwDwT8jK1/r58+fl7e19yxpC0x3q37+/evfubV1PSUnR2bNnVahQITkcjmzsDFktISFBQUFBOnHihLy8vLK7HQBZgNf5/cMYo/PnzyswMPC2tYSm/69w4cLKlSuXYmNjncZjY2Pl7++fpt7d3V3u7u5OYz4+PlnZInIYLy8v/jMF7nG8zu8PtzvClIqJ4P+fm5ubqlWrplWrVlljKSkpWrVqlUJDQ7OxMwAAkBNwpOk6vXv3VqdOnRQSEqLq1atrwoQJunjxol544YXsbg0AAGQzQtN1nn/+eZ05c0aDBg1STEyMqlSpohUrVqSZHI77m7u7uwYPHpzm41kA9w5e50iPw9j5jh0AAMB9jjlNAAAANhCaAAAAbCA0AQAA2EBoAu5AgwYN1KtXL0nSpUuX1KpVK3l5ecnhcCguLi5bewNymr/zeilRooQmTJiQ5T1m1JAhQ+Tn5yeHw6FFixZldzvq3LmzIiIisruNex6hCfib5syZo++//14bN27UqVOnbJ8kDbgf5eTXy+XLlzV48GCVKVNG7u7uKly4sJ599lnt3bvXqW7//v0aOnSo3n//fZ06dUoOh0MOh0MxMTFOdQEBASpRooTT2NGjR+VwOJzOCYi7B6EJ+JsOHz6s8uXLq1KlSvL39+dndIBbyKmvl6tXryosLEwzZ87UiBEj9PPPP+ubb77RtWvXVKNGDW3atMmqPXz4sCTpySeflL+/vxo1aqTcuXNr7dq1Vs3+/ft1+fJlnTt3TkePHrXG16xZI3d3d9WuXfuO+kxKSrqj2yFzEJqA27h48aI6duyofPnyKSAgQOPGjbOWNWjQQOPGjdP69evlcDjUoEGD7GsUyAGy4vVy/vx5tWnTRnnz5lXRokU1depUp+Xjx49XcHCw8ubNq6CgIL366qu6cOGCU80HH3ygoKAg5cmTR0899ZTGjx/v9NNXEyZMUHR0tJYuXarnnntOxYsXV/Xq1fXVV1+pfPnyioyMlDFGQ4YMUYsWLSRJLi4ucjgcypcvnx599FGn0LR27VrVqVNHtWvXTjNes2ZNeXh4KCUlRcOGDVOxYsXk7u5unRswVepRqXnz5ql+/fry8PDQ3LlzlZycrN69e8vHx0eFChVSnz59dOPZg7788ksFBwfL09NThQoVUlhYmC5evGjr/sYtGAC39Morr5gHHnjArFy50uzevds0b97c5M+f3/Ts2dP8+eefpmvXriY0NNScOnXK/Pnnn9ndLpCtMvv1Urx4cZM/f34zcuRIc/DgQTNp0iSTK1cu891331k17777rlm9erU5cuSIWbVqlSlbtqx55ZVXrOU//PCDcXFxMWPHjjUHDx40U6dONQULFjTe3t5WzcMPP2waN26cbg9z5841kszOnTvN+fPnzaxZs4wkc+rUKXPq1CljjDH//ve/TZkyZazbPPvss2bs2LFm1KhRpmPHjtb4Aw88YIYMGWKMMWb8+PHGy8vLfP755+bAgQOmT58+xtXV1fz888/GGGOOHDliJJkSJUqYr776yvz666/m5MmTZvTo0aZAgQLmq6++Mvv27TORkZEmf/785sknnzTGGHPy5EmTO3duM378eHPkyBGze/duM3XqVHP+/Pnb3t+4NUITcAvnz583bm5u5osvvrDG/vzzT+Pp6Wl69uxpjDGmZ8+epn79+tnTIJCDZMXrpXjx4qZJkyZOY88//7x54oknbnqb+fPnm0KFCjnVN2vWzKmmXbt2TqHJw8PD6vFGO3bsMJLMvHnzjDHGLFy40Nx4zCEqKspIMidPnjTGGOPr62u2bNliNm7caIoXL26MMebw4cNGklm3bp0xxpjAwEDzn//8x2k9jz76qHn11VeNMf8XmiZMmOBUExAQYMaMGWNdT0pKMsWKFbNC0/bt240kc/To0ZvdRbhDfDwH3MLhw4eVmJioGjVqWGMFCxZU2bJls7ErIGfKqtfLjT+aHhoaqv3791vXV65cqUaNGqlo0aLKnz+/OnTooD///FOXLl2SJB08eFDVq1d3WseN1yWl+YgrI2rVqiU3NzetXbtW+/bt0+XLl/XII48oJCREZ86c0ZEjR7R27Vp5enqqZs2aSkhI0MmTJ9PMbapdu7bTvklSSEiI9e/4+HidOnXK6T7OnTu3U03lypXVqFEjBQcH69lnn9UHH3ygc+fO3fG+4f8QmgAAd62jR4+qefPmevjhh/XVV19p+/bt1pynxMRE2+spU6ZMmrCSKnW8TJkyN719njx5VL16da1Zs0Zr1qxRnTp1lCtXLrm6uqpWrVrWeO3ateXm5paBPZTy5s2bofpcuXIpKipKy5cvV4UKFTR58mSVLVtWR44cydB6kBahCbiFUqVKydXVVZs3b7bGzp07p59//jkbuwJypqx6vVz/zbXU6+XLl5ckbd++XSkpKRo3bpxq1qypMmXK6OTJk071ZcuW1datW53GbrzeunVrrVy5Uj/++KPTeEpKit59911VqFBBlStXvmWfDRs21Nq1a7V27VqnSe716tXT2rVrtW7dOjVs2FCS5OXlpcDAQG3YsMFpHRs2bFCFChVuug1vb28FBAQ43cfXrl3T9u3bneocDodq166toUOHaufOnXJzc9PChQtv2T9uL3d2NwDkZPny5VNkZKTeeustFSpUSL6+vnr77bfl4sLfG8CNsur1smHDBo0ZM0YRERGKiorS/PnztWzZMklS6dKllZSUpMmTJ6tFixbasGGDpk+f7nT7Hj16qF69eho/frxatGih1atXa/ny5U6nO3j99de1ePFitWjRQuPGjVONGjUUGxurd955R/v379fKlStve3qEhg0bavjw4YqJidGbb75pjdevX19jx47V+fPnrdAkSW+99ZYGDx6sUqVKqUqVKpo1a5Z27dqluXPn3nI7PXv21KhRo/TQQw+pXLlyGj9+vNNJQjdv3qxVq1apcePG8vX11ebNm3XmzBkraOJvyO5JVUBOd/78edO+fXuTJ08e4+fnZ8aMGWPq16/PRHAgHZn9eilevLgZOnSoefbZZ02ePHmMv7+/mThxolPN+PHjTUBAgPH09DTh4eHm448/NpLMuXPnrJoZM2aYokWLGk9PTxMREWFGjBhh/P39ndZz8eJF8/bbb5vSpUsbV1dXU7BgQdOqVSvz008/OdWlNxHcGGMuX75s3N3dTb58+UxSUpI1fuXKFePh4ZFmPDk52QwZMsQULVrUuLq6msqVK5vly5dby1Mngu/cudNpO0lJSaZnz57Gy8vL+Pj4mN69e5uOHTtaE8H37dtnwsPDTZEiRYy7u7spU6aMmTx5sq37G7fmMOZvzHwDAOAu1LVrVx04cEDff/99dreCuwgfzwEA7nn//e9/9fjjjytv3rxavny55syZo2nTpmV3W7jLcKQJAJAtvv/+ez3xxBM3XX7jWb3/jueee05r167V+fPn9eCDD6pHjx56+eWXM239uD8QmgAA2eLy5cv6/fffb7q8dOnS/2A3wO0RmgAAAGzge9MAAAA2EJoAAABsIDQBAADYQGgCAACwgdAEAABgA6EJAADABkITAACADYQmAAAAG/4fexRWE+l4vWIAAAAASUVORK5CYII=\n"
          },
          "metadata": {}
        },
        {
          "output_type": "display_data",
          "data": {
            "text/plain": [
              "<Figure size 640x480 with 1 Axes>"
            ],
            "image/png": "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\n"
          },
          "metadata": {}
        }
      ]
    },
    {
      "cell_type": "markdown",
      "source": [
        "Hipóteses do grupo de colunas que afetem e não afetam a análise dos sentimentos dos cliente. "
      ],
      "metadata": {
        "id": "7YHnrj4R_3S7"
      }
    },
    {
      "cell_type": "markdown",
      "source": [
        "## Colunas que não afetam na análise de sentimento:\n",
        "\n",
        "Segundo nossas hipóteses, as colunas que podem não estar relacionadas a verificação do sentimento dos clientes do BTG Pactual através dos comentários são:\n",
        "\n",
        "- id: esta informação não tem relação direta com o sentimento do cliente e não ajudará a entender sua opinião sobre seus produtos ou serviços.\n",
        "- Autor: informação não diretamente relacionada ao sentimento do cliente, a menos que haja uma hipótese específica sobre isso.\n",
        "- Tipo de Interação: informação não diretamente relacionada ao sentimento do cliente e não ajudará a entender sua opinião sobre seus produtos ou serviços.\n",
        "- Link do post: informação não diretamente relacionada ao sentimento do cliente e não ajudará a entender sua opinião sobre seus produtos ou serviços.\n",
        "- Processado: Esta coluna pode ser relevante dependendo do seu objetivo de análise. Se a coluna indicar se um comentário foi processado por um software de análise de sentimento, por exemplo, ela pode ser útil para entender a precisão dos resultados da análise.\n",
        "- Contém Hyperlink: informação não diretamente relacionada ao sentimento do cliente e não ajudará a entender sua opinião sobre seus produtos ou serviços.\n",
        "- Probabilidade de anomalia: Esta coluna pode ser relevante dependendo do seu objetivo de análise. Se a coluna indicar a probabilidade de um comentário ser uma anomalia, ela pode ser útil para entender a qualidade geral dos dados.\n",
        "\n",
        "## Colunas que tem relação direta com o resultado da análise de sentimento dos clientes:\n",
        "\n",
        "Já as colunas que podem ter relação direta com \n",
        "\n",
        "- Texto: Esta é a coluna mais importante, pois contém o feedback direto dos clientes sobre seus produtos ou serviços.\n",
        "- Data da Publicação: A data pode ser útil para detectar tendências temporais e mudanças na percepção do cliente ao longo do tempo.\n",
        "- Sentimento: Esta coluna é importante, pois é onde está registrado o sentimento do cliente em relação ao produto ou serviço."
      ],
      "metadata": {
        "id": "-hzPd2x8U-mO"
      }
    },
    {
      "cell_type": "markdown",
      "source": [
        "Gráfico das colunas relevantes e irrelevantes segundo hipóteses feitas pelo grupo. "
      ],
      "metadata": {
        "id": "5EjsrHV9AWSz"
      }
    },
    {
      "cell_type": "code",
      "source": [
        "# Definir os dados do gráfico\n",
        "colunas = ['Texto', 'Data da Publicação', 'Sentimento', 'id', 'Autor', 'Tipo de Interação', 'Link do post', 'Processado', 'Contém Hyperlink', 'Probabilidade de anomalia']\n",
        "qtd_relevantes = [3, 1, 1, 0, 0, 0, 0, 0, 0, 0]\n",
        "qtd_irrelevantes = [0, 0, 0, 1, 1, 1, 1, 1, 1, 1]\n",
        "\n",
        "# Plotar o gráfico\n",
        "fig, ax = plt.subplots(figsize=(8, 6))\n",
        "ax.bar(colunas, qtd_relevantes, color='green', label='Colunas relevantes')\n",
        "ax.bar(colunas, qtd_irrelevantes, bottom=qtd_relevantes, color='red', label='Colunas irrelevantes')\n",
        "ax.set_xticklabels(colunas, rotation=90)\n",
        "ax.set_ylabel('Quantidade de colunas')\n",
        "ax.legend()\n",
        "\n",
        "plt.show()\n"
      ],
      "metadata": {
        "colab": {
          "base_uri": "https://localhost:8080/",
          "height": 735
        },
        "id": "m0b2xvnHdg7y",
        "outputId": "f83da72a-1ce3-4130-98db-39d3b737be6c"
      },
      "execution_count": 85,
      "outputs": [
        {
          "output_type": "stream",
          "name": "stderr",
          "text": [
            "<ipython-input-85-dcac4868ad97>:10: UserWarning: FixedFormatter should only be used together with FixedLocator\n",
            "  ax.set_xticklabels(colunas, rotation=90)\n"
          ]
        },
        {
          "output_type": "display_data",
          "data": {
            "text/plain": [
              "<Figure size 800x600 with 1 Axes>"
            ],
            "image/png": "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\n"
          },
          "metadata": {}
        }
      ]
    },
    {
      "cell_type": "code",
      "source": [
        "# Contagem de sentimentos\n",
        "sentimentos = df_tokenizaçãoStopWords['sentimento'].value_counts()\n",
        "print(sentimentos)\n",
        "\n",
        "# Contagem de palavras na primeira base \"df\"\n",
        "palavras_df = df['\"texto\"'].str.split().apply(len).sum()\n",
        "print(\"Número total de palavras nos comentários da base inicial:\", palavras_df)\n",
        "\n",
        "# Contagem de palavras na última base\n",
        "palavras_df_tokenizaçãoStopWords = df_tokenizaçãoStopWords['texto'].str.split().apply(len).sum()\n",
        "print(\"Número total de palavras nos comentários da base após tratamento:\", df_tokenizaçãoStopWords)\n"
      ],
      "metadata": {
        "colab": {
          "base_uri": "https://localhost:8080/"
        },
        "id": "D8mc1U6lVNTk",
        "outputId": "863b9bcd-ee63-4761-ab50-61bf1999bef8"
      },
      "execution_count": 83,
      "outputs": [
        {
          "output_type": "stream",
          "name": "stdout",
          "text": [
            "NEUTRAL     2798\n",
            "NEGATIVE    1952\n",
            "POSITIVE    1606\n",
            "Name: sentimento, dtype: int64\n",
            "Número total de palavras nos comentários da base inicial: 522820\n",
            "Número total de palavras nos comentários da base após tratamento:               dataPublicada                     autor  \\\n",
            "0     \"2022-03-04 08:36:00\"                lmviapiana   \n",
            "1     \"2022-03-03 21:10:00\"              vanilson_dos   \n",
            "2     \"2022-03-03 20:54:00\"               ricktolledo   \n",
            "3     \"2022-03-03 18:56:00\"          claudiofalavinha   \n",
            "4     \"2022-03-03 16:11:00\"     paularodrigues.invest   \n",
            "...                     ...                       ...   \n",
            "6351  \"2022-11-30 07:48:00\"  perspectiveinvestimentos   \n",
            "6352  \"2022-11-30 08:42:00\"              marlenenelso   \n",
            "6353  \"2022-11-30 11:27:00\"            eduardocolares   \n",
            "6354  \"2022-11-30 12:18:00\"             jayipacderota   \n",
            "6355  \"2022-11-30 14:27:00\"                 bfmarilia   \n",
            "\n",
            "                                                  texto sentimento  \\\n",
            "0                                  Minuto touro de ouro   POSITIVE   \n",
            "1                                      @ricktolledo Sim    NEUTRAL   \n",
            "2     Queria saber se a Btg banking é a própria btg ...   POSITIVE   \n",
            "3                                        @thaotinhasbfc    NEUTRAL   \n",
            "4                                                  👏👏👏👏    NEUTRAL   \n",
            "...                                                 ...        ...   \n",
            "6351                               Excelente explicação   POSITIVE   \n",
            "6352  Porque  o brg tá  diminuído  o limite  do cart...   NEGATIVE   \n",
            "6353               Atendam o telefone pelo amor de Deus   POSITIVE   \n",
            "6354  Estou muito grato por todo o esforço que você ...   POSITIVE   \n",
            "6355  @btgpactual pq o morning call não está mais ap...   NEGATIVE   \n",
            "\n",
            "     tipoInteracao  anomalia  probabilidadeAnomalia  \\\n",
            "0       comentário         0                     38   \n",
            "1         resposta         0                     17   \n",
            "2       comentário         0                     20   \n",
            "3       comentário         0                     41   \n",
            "4       comentário         0                     15   \n",
            "...            ...       ...                    ...   \n",
            "6351    comentário         0                     15   \n",
            "6352    comentário         1                     53   \n",
            "6353    comentário         0                     28   \n",
            "6354    comentário         1                     52   \n",
            "6355    comentário         0                     28   \n",
            "\n",
            "                                               linkPost  processado  \\\n",
            "0     https://www.instagram.com/p/CapXhB5Lvas/#17977...           0   \n",
            "1     https://www.instagram.com/p/CapXhB5Lvas/#17842...           0   \n",
            "2     https://www.instagram.com/p/CapXhB5Lvas/#17935...           0   \n",
            "3     https://www.instagram.com/p/CapXhB5Lvas/#17942...           0   \n",
            "4     https://www.instagram.com/p/CaptWrtOT8U/#17943...           0   \n",
            "...                                                 ...         ...   \n",
            "6351  https://www.instagram.com/p/ClgWR-Ov2H1/#18001...           0   \n",
            "6352  https://www.instagram.com/p/ClgWR-Ov2H1/#17878...           0   \n",
            "6353  https://www.instagram.com/p/CllkSBOuKlJ/#17960...           0   \n",
            "6354  https://www.instagram.com/p/CllkSBOuKlJ/#17960...           0   \n",
            "6355  https://www.instagram.com/p/CllkSBOuKlJ/#17975...           0   \n",
            "\n",
            "      contemHyperlink                              Frases_sem_stop_words  \\\n",
            "0                   0                        ['Minuto', 'touro', 'ouro']   \n",
            "1                   0                                            ['Sim']   \n",
            "2                   0  ['Queria', 'saber', 'Btg', 'banking', 'própria...   \n",
            "3                   0                                                 []   \n",
            "4                   0                                                 []   \n",
            "...               ...                                                ...   \n",
            "6351                0                        ['Excelente', 'explicação']   \n",
            "6352                0  ['Porque', 'brg', 'tá', 'diminuído', 'limite',...   \n",
            "6353                0            ['Atendam', 'telefone', 'amor', 'Deus']   \n",
            "6354                0  ['grato', 'todo', 'esforço', 'rendeu', 'invest...   \n",
            "6355                0  ['pq', 'morning', 'call', 'aparecendo', 'Spoti...   \n",
            "\n",
            "      Num Palavras  \n",
            "0               10  \n",
            "1                4  \n",
            "2               19  \n",
            "3                2  \n",
            "4                2  \n",
            "...            ...  \n",
            "6351             7  \n",
            "6352            31  \n",
            "6353            13  \n",
            "6354            31  \n",
            "6355            37  \n",
            "\n",
            "[6356 rows x 12 columns]\n"
          ]
        }
      ]
    },
    {
      "cell_type": "markdown",
      "source": [
        "Porcentagem dos sentimentos dos cliente (na porcentagem de neutros há a consideração de emojis, o que torna o número impreciso)."
      ],
      "metadata": {
        "id": "1m1-mUP5ADee"
      }
    },
    {
      "cell_type": "code",
      "source": [
        "# Lista de cores\n",
        "colors = ['#FFE1BE', '#8C0019', '#195AB4']\n",
        "\n",
        "# Contagem de sentimentos\n",
        "sentimentos = df_tokenizaçãoStopWords['sentimento'].value_counts()\n",
        "\n",
        "# Cria um gráfico de pizza com as contagens de sentimentos\n",
        "fig, ax = plt.subplots()\n",
        "ax.pie(sentimentos.values, labels=sentimentos.index, autopct='%1.1f%%', startangle=90, colors=colors)\n",
        "ax.axis('equal')\n",
        "\n",
        "plt.title('Porcentagem relacionada aos sentimentos nos comentários \\n das postagens no Instagram feitos pelos clientes do BTG Pactual')\n",
        "\n",
        "# Mostra o gráfico\n",
        "plt.show()\n"
      ],
      "metadata": {
        "colab": {
          "base_uri": "https://localhost:8080/",
          "height": 450
        },
        "id": "soH42kfdTCIU",
        "outputId": "ede61635-9635-49ff-e29d-1af864fc9a1f"
      },
      "execution_count": 84,
      "outputs": [
        {
          "output_type": "display_data",
          "data": {
            "text/plain": [
              "<Figure size 640x480 with 1 Axes>"
            ],
            "image/png": "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\n"
          },
          "metadata": {}
        }
      ]
    },
    {
      "cell_type": "markdown",
      "source": [
        "Função \"describe\" da base de dados inicial. "
      ],
      "metadata": {
        "id": "hikllGEOAlCE"
      }
    },
    {
      "cell_type": "code",
      "source": [
        "df.describe()"
      ],
      "metadata": {
        "colab": {
          "base_uri": "https://localhost:8080/",
          "height": 300
        },
        "id": "0nWTjPZS-ElB",
        "outputId": "a6711cc8-538d-4f50-df38-8dec9f7ba5c2"
      },
      "execution_count": 88,
      "outputs": [
        {
          "output_type": "execute_result",
          "data": {
            "text/plain": [
              "                 id    \"anomalia\"  \"probabilidadeAnomalia\"  \"processado\"  \\\n",
              "count  1.235500e+04  12355.000000             12355.000000       12355.0   \n",
              "mean   1.757789e+06      0.222339                37.325698           0.0   \n",
              "std    7.967971e+05      0.415835                16.374936           0.0   \n",
              "min    1.000000e+00      0.000000                 7.000000           0.0   \n",
              "25%    1.314377e+06      0.000000                24.000000           0.0   \n",
              "50%    1.783879e+06      0.000000                37.000000           0.0   \n",
              "75%    2.388714e+06      0.000000                48.000000           0.0   \n",
              "max    3.045012e+06      1.000000               100.000000           0.0   \n",
              "\n",
              "       \"contemHyperlink\"  Num Palavras  \n",
              "count       12355.000000  12355.000000  \n",
              "mean            0.005423     50.273007  \n",
              "std             0.073443     62.843977  \n",
              "min             0.000000      1.000000  \n",
              "25%             0.000000      7.000000  \n",
              "50%             0.000000     25.000000  \n",
              "75%             0.000000     71.000000  \n",
              "max             1.000000    336.000000  "
            ],
            "text/html": [
              "\n",
              "  <div id=\"df-0a564b86-17ab-4bc6-8dbd-c949824a64b7\">\n",
              "    <div class=\"colab-df-container\">\n",
              "      <div>\n",
              "<style scoped>\n",
              "    .dataframe tbody tr th:only-of-type {\n",
              "        vertical-align: middle;\n",
              "    }\n",
              "\n",
              "    .dataframe tbody tr th {\n",
              "        vertical-align: top;\n",
              "    }\n",
              "\n",
              "    .dataframe thead th {\n",
              "        text-align: right;\n",
              "    }\n",
              "</style>\n",
              "<table border=\"1\" class=\"dataframe\">\n",
              "  <thead>\n",
              "    <tr style=\"text-align: right;\">\n",
              "      <th></th>\n",
              "      <th>id</th>\n",
              "      <th>\"anomalia\"</th>\n",
              "      <th>\"probabilidadeAnomalia\"</th>\n",
              "      <th>\"processado\"</th>\n",
              "      <th>\"contemHyperlink\"</th>\n",
              "      <th>Num Palavras</th>\n",
              "    </tr>\n",
              "  </thead>\n",
              "  <tbody>\n",
              "    <tr>\n",
              "      <th>count</th>\n",
              "      <td>1.235500e+04</td>\n",
              "      <td>12355.000000</td>\n",
              "      <td>12355.000000</td>\n",
              "      <td>12355.0</td>\n",
              "      <td>12355.000000</td>\n",
              "      <td>12355.000000</td>\n",
              "    </tr>\n",
              "    <tr>\n",
              "      <th>mean</th>\n",
              "      <td>1.757789e+06</td>\n",
              "      <td>0.222339</td>\n",
              "      <td>37.325698</td>\n",
              "      <td>0.0</td>\n",
              "      <td>0.005423</td>\n",
              "      <td>50.273007</td>\n",
              "    </tr>\n",
              "    <tr>\n",
              "      <th>std</th>\n",
              "      <td>7.967971e+05</td>\n",
              "      <td>0.415835</td>\n",
              "      <td>16.374936</td>\n",
              "      <td>0.0</td>\n",
              "      <td>0.073443</td>\n",
              "      <td>62.843977</td>\n",
              "    </tr>\n",
              "    <tr>\n",
              "      <th>min</th>\n",
              "      <td>1.000000e+00</td>\n",
              "      <td>0.000000</td>\n",
              "      <td>7.000000</td>\n",
              "      <td>0.0</td>\n",
              "      <td>0.000000</td>\n",
              "      <td>1.000000</td>\n",
              "    </tr>\n",
              "    <tr>\n",
              "      <th>25%</th>\n",
              "      <td>1.314377e+06</td>\n",
              "      <td>0.000000</td>\n",
              "      <td>24.000000</td>\n",
              "      <td>0.0</td>\n",
              "      <td>0.000000</td>\n",
              "      <td>7.000000</td>\n",
              "    </tr>\n",
              "    <tr>\n",
              "      <th>50%</th>\n",
              "      <td>1.783879e+06</td>\n",
              "      <td>0.000000</td>\n",
              "      <td>37.000000</td>\n",
              "      <td>0.0</td>\n",
              "      <td>0.000000</td>\n",
              "      <td>25.000000</td>\n",
              "    </tr>\n",
              "    <tr>\n",
              "      <th>75%</th>\n",
              "      <td>2.388714e+06</td>\n",
              "      <td>0.000000</td>\n",
              "      <td>48.000000</td>\n",
              "      <td>0.0</td>\n",
              "      <td>0.000000</td>\n",
              "      <td>71.000000</td>\n",
              "    </tr>\n",
              "    <tr>\n",
              "      <th>max</th>\n",
              "      <td>3.045012e+06</td>\n",
              "      <td>1.000000</td>\n",
              "      <td>100.000000</td>\n",
              "      <td>0.0</td>\n",
              "      <td>1.000000</td>\n",
              "      <td>336.000000</td>\n",
              "    </tr>\n",
              "  </tbody>\n",
              "</table>\n",
              "</div>\n",
              "      <button class=\"colab-df-convert\" onclick=\"convertToInteractive('df-0a564b86-17ab-4bc6-8dbd-c949824a64b7')\"\n",
              "              title=\"Convert this dataframe to an interactive table.\"\n",
              "              style=\"display:none;\">\n",
              "        \n",
              "  <svg xmlns=\"http://www.w3.org/2000/svg\" height=\"24px\"viewBox=\"0 0 24 24\"\n",
              "       width=\"24px\">\n",
              "    <path d=\"M0 0h24v24H0V0z\" fill=\"none\"/>\n",
              "    <path d=\"M18.56 5.44l.94 2.06.94-2.06 2.06-.94-2.06-.94-.94-2.06-.94 2.06-2.06.94zm-11 1L8.5 8.5l.94-2.06 2.06-.94-2.06-.94L8.5 2.5l-.94 2.06-2.06.94zm10 10l.94 2.06.94-2.06 2.06-.94-2.06-.94-.94-2.06-.94 2.06-2.06.94z\"/><path d=\"M17.41 7.96l-1.37-1.37c-.4-.4-.92-.59-1.43-.59-.52 0-1.04.2-1.43.59L10.3 9.45l-7.72 7.72c-.78.78-.78 2.05 0 2.83L4 21.41c.39.39.9.59 1.41.59.51 0 1.02-.2 1.41-.59l7.78-7.78 2.81-2.81c.8-.78.8-2.07 0-2.86zM5.41 20L4 18.59l7.72-7.72 1.47 1.35L5.41 20z\"/>\n",
              "  </svg>\n",
              "      </button>\n",
              "      \n",
              "  <style>\n",
              "    .colab-df-container {\n",
              "      display:flex;\n",
              "      flex-wrap:wrap;\n",
              "      gap: 12px;\n",
              "    }\n",
              "\n",
              "    .colab-df-convert {\n",
              "      background-color: #E8F0FE;\n",
              "      border: none;\n",
              "      border-radius: 50%;\n",
              "      cursor: pointer;\n",
              "      display: none;\n",
              "      fill: #1967D2;\n",
              "      height: 32px;\n",
              "      padding: 0 0 0 0;\n",
              "      width: 32px;\n",
              "    }\n",
              "\n",
              "    .colab-df-convert:hover {\n",
              "      background-color: #E2EBFA;\n",
              "      box-shadow: 0px 1px 2px rgba(60, 64, 67, 0.3), 0px 1px 3px 1px rgba(60, 64, 67, 0.15);\n",
              "      fill: #174EA6;\n",
              "    }\n",
              "\n",
              "    [theme=dark] .colab-df-convert {\n",
              "      background-color: #3B4455;\n",
              "      fill: #D2E3FC;\n",
              "    }\n",
              "\n",
              "    [theme=dark] .colab-df-convert:hover {\n",
              "      background-color: #434B5C;\n",
              "      box-shadow: 0px 1px 3px 1px rgba(0, 0, 0, 0.15);\n",
              "      filter: drop-shadow(0px 1px 2px rgba(0, 0, 0, 0.3));\n",
              "      fill: #FFFFFF;\n",
              "    }\n",
              "  </style>\n",
              "\n",
              "      <script>\n",
              "        const buttonEl =\n",
              "          document.querySelector('#df-0a564b86-17ab-4bc6-8dbd-c949824a64b7 button.colab-df-convert');\n",
              "        buttonEl.style.display =\n",
              "          google.colab.kernel.accessAllowed ? 'block' : 'none';\n",
              "\n",
              "        async function convertToInteractive(key) {\n",
              "          const element = document.querySelector('#df-0a564b86-17ab-4bc6-8dbd-c949824a64b7');\n",
              "          const dataTable =\n",
              "            await google.colab.kernel.invokeFunction('convertToInteractive',\n",
              "                                                     [key], {});\n",
              "          if (!dataTable) return;\n",
              "\n",
              "          const docLinkHtml = 'Like what you see? Visit the ' +\n",
              "            '<a target=\"_blank\" href=https://colab.research.google.com/notebooks/data_table.ipynb>data table notebook</a>'\n",
              "            + ' to learn more about interactive tables.';\n",
              "          element.innerHTML = '';\n",
              "          dataTable['output_type'] = 'display_data';\n",
              "          await google.colab.output.renderOutput(dataTable, element);\n",
              "          const docLink = document.createElement('div');\n",
              "          docLink.innerHTML = docLinkHtml;\n",
              "          element.appendChild(docLink);\n",
              "        }\n",
              "      </script>\n",
              "    </div>\n",
              "  </div>\n",
              "  "
            ]
          },
          "metadata": {},
          "execution_count": 88
        }
      ]
    },
    {
      "cell_type": "markdown",
      "source": [
        "20 palavras mais ditas nos comentários:"
      ],
      "metadata": {
        "id": "97biYnMUAuLg"
      }
    },
    {
      "cell_type": "code",
      "source": [
        "# Ordena as palavras em ordem decrescente pela frequência e seleciona as 20 primeiras\n",
        "top_words = df_bagOfWords.sort_values(by='Frequência', ascending=False)['Palavra'].head(20).tolist()\n",
        "\n",
        "# Imprime as 20 palavras mais frequentes\n",
        "print('As 20 palavras mais frequentes são: ', top_words)\n"
      ],
      "metadata": {
        "colab": {
          "base_uri": "https://localhost:8080/"
        },
        "id": "0qmnCriPCm7r",
        "outputId": "2d3ef84d-c507-4bdf-f14a-1db076ee6b08"
      },
      "execution_count": 89,
      "outputs": [
        {
          "output_type": "stream",
          "name": "stdout",
          "text": [
            "As 20 palavras mais frequentes são:  ['banco', 'btg', 'pra', 'limite', 'conta', 'cartão', 'melhor', 'agora', 'sempre', 'fazer', 'vai', 'dinheiro', 'ter', 'vcs', 'obrigado', 'flu', 'tudo', 'nunca', 'sobre', 'todos']\n"
          ]
        }
      ]
    }
  ]
}
  
  {
   "cell_type": "markdown",
   "id": "e40a7751",
   "metadata": {},
   "source": [
    "## Análise do corpus"
   ]
  },
  {
   "cell_type": "markdown",
   "id": "a9450755",
   "metadata": {},
   "source": [
    "### Importando bibliotecas"
   ]
  },
  {
   "cell_type": "code",
   "execution_count": 2,
   "id": "c005eb64",
   "metadata": {},
   "outputs": [
    {
     "name": "stdout",
     "output_type": "stream",
     "text": [
      "Collecting matplotlib\n",
      "  Using cached matplotlib-3.7.1-cp311-cp311-win_amd64.whl (7.6 MB)\n",
      "Collecting contourpy>=1.0.1 (from matplotlib)\n",
      "  Using cached contourpy-1.0.7-cp311-cp311-win_amd64.whl (162 kB)\n",
      "Collecting cycler>=0.10 (from matplotlib)\n",
      "  Using cached cycler-0.11.0-py3-none-any.whl (6.4 kB)\n",
      "Collecting fonttools>=4.22.0 (from matplotlib)\n",
      "  Downloading fonttools-4.39.4-py3-none-any.whl (1.0 MB)\n",
      "                                              0.0/1.0 MB ? eta -:--:--\n",
      "     --------                                 0.2/1.0 MB 6.3 MB/s eta 0:00:01\n",
      "     -----------------                        0.4/1.0 MB 5.4 MB/s eta 0:00:01\n",
      "     ---------------------                    0.5/1.0 MB 4.2 MB/s eta 0:00:01\n",
      "     ---------------------                    0.5/1.0 MB 4.2 MB/s eta 0:00:01\n",
      "     -------------------------                0.6/1.0 MB 2.9 MB/s eta 0:00:01\n",
      "     ----------------------------             0.7/1.0 MB 2.7 MB/s eta 0:00:01\n",
      "     -------------------------------          0.8/1.0 MB 2.5 MB/s eta 0:00:01\n",
      "     ---------------------------------        0.8/1.0 MB 2.3 MB/s eta 0:00:01\n",
      "     ----------------------------------       0.9/1.0 MB 2.2 MB/s eta 0:00:01\n",
      "     ------------------------------------     0.9/1.0 MB 2.2 MB/s eta 0:00:01\n",
      "     -------------------------------------    1.0/1.0 MB 1.9 MB/s eta 0:00:01\n",
      "     --------------------------------------   1.0/1.0 MB 1.8 MB/s eta 0:00:01\n",
      "     --------------------------------------   1.0/1.0 MB 1.8 MB/s eta 0:00:01\n",
      "     --------------------------------------   1.0/1.0 MB 1.5 MB/s eta 0:00:01\n",
      "     --------------------------------------   1.0/1.0 MB 1.5 MB/s eta 0:00:01\n",
      "     --------------------------------------   1.0/1.0 MB 1.5 MB/s eta 0:00:01\n",
      "     ---------------------------------------  1.0/1.0 MB 1.3 MB/s eta 0:00:01\n",
      "     ---------------------------------------  1.0/1.0 MB 1.3 MB/s eta 0:00:01\n",
      "     ---------------------------------------  1.0/1.0 MB 1.3 MB/s eta 0:00:01\n",
      "     ---------------------------------------- 1.0/1.0 MB 1.1 MB/s eta 0:00:00\n",
      "Collecting kiwisolver>=1.0.1 (from matplotlib)\n",
      "  Using cached kiwisolver-1.4.4-cp311-cp311-win_amd64.whl (55 kB)\n",
      "Requirement already satisfied: numpy>=1.20 in c:\\users\\eduar\\appdata\\local\\programs\\python\\python311\\lib\\site-packages (from matplotlib) (1.23.5)\n",
      "Requirement already satisfied: packaging>=20.0 in c:\\users\\eduar\\appdata\\roaming\\python\\python311\\site-packages (from matplotlib) (23.1)\n",
      "Collecting pillow>=6.2.0 (from matplotlib)\n",
      "  Using cached Pillow-9.5.0-cp311-cp311-win_amd64.whl (2.5 MB)\n",
      "Collecting pyparsing>=2.3.1 (from matplotlib)\n",
      "  Using cached pyparsing-3.0.9-py3-none-any.whl (98 kB)\n",
      "Requirement already satisfied: python-dateutil>=2.7 in c:\\users\\eduar\\appdata\\roaming\\python\\python311\\site-packages (from matplotlib) (2.8.2)\n",
      "Requirement already satisfied: six>=1.5 in c:\\users\\eduar\\appdata\\roaming\\python\\python311\\site-packages (from python-dateutil>=2.7->matplotlib) (1.16.0)\n",
      "Installing collected packages: pyparsing, pillow, kiwisolver, fonttools, cycler, contourpy, matplotlib\n",
      "Successfully installed contourpy-1.0.7 cycler-0.11.0 fonttools-4.39.4 kiwisolver-1.4.4 matplotlib-3.7.1 pillow-9.5.0 pyparsing-3.0.9\n",
      "Note: you may need to restart the kernel to use updated packages.\n"
     ]
    },
    {
     "name": "stderr",
     "output_type": "stream",
     "text": [
      "\n",
      "[notice] A new release of pip is available: 23.1.1 -> 23.1.2\n",
      "[notice] To update, run: python.exe -m pip install --upgrade pip\n"
     ]
    }
   ],
   "source": [
    "pip install matplotlib"
   ]
  },
  {
   "cell_type": "code",
   "execution_count": 4,
   "id": "3218e749",
   "metadata": {},
   "outputs": [
    {
     "name": "stderr",
     "output_type": "stream",
     "text": [
      "[nltk_data] Downloading package punkt to\n",
      "[nltk_data]     C:\\Users\\eduar\\AppData\\Roaming\\nltk_data...\n",
      "[nltk_data]   Package punkt is already up-to-date!\n",
      "[nltk_data] Downloading package stopwords to\n",
      "[nltk_data]     C:\\Users\\eduar\\AppData\\Roaming\\nltk_data...\n",
      "[nltk_data]   Package stopwords is already up-to-date!\n",
      "[nltk_data] Downloading package wordnet to\n",
      "[nltk_data]     C:\\Users\\eduar\\AppData\\Roaming\\nltk_data...\n",
      "[nltk_data]   Package wordnet is already up-to-date!\n"
     ]
    }
   ],
   "source": [
    "import pandas as pd\n",
    "import nltk\n",
    "import string  \n",
    "import matplotlib.pyplot as plt\n",
    "from nltk.tokenize import word_tokenize\n",
    "from nltk.corpus import stopwords\n",
    "from nltk.stem import WordNetLemmatizer\n",
    "nltk.download('punkt')\n",
    "nltk.download('stopwords')\n",
    "nltk.download('wordnet')\n",
    "stop_words = set(stopwords.words('portuguese'))"
   ]
  },
  {
   "cell_type": "code",
   "execution_count": null,
   "id": "45d67661",
   "metadata": {},
   "outputs": [],
   "source": [
    "#Bases de dados geradas em .csv após cada pré-processamento. Elas estão disponíveis no github do grupo.\n",
    "df = pd.read_excel('/content/drive/MyDrive/Colab Notebooks/BASE-ATUAL.xlsx')\n"
   ]
  },
  {
   "attachments": {
    "pipeline.png": {
     "image/png": "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"
    }
   },
   "cell_type": "markdown",
   "id": "78087c49",
   "metadata": {},
   "source": [
    "![pipeline.png](attachment:pipeline.png)"
   ]
  },
  {
   "cell_type": "markdown",
   "id": "18578362",
   "metadata": {},
   "source": [
    "## Importando as bibliotecas "
   ]
  },
  {
   "cell_type": "markdown",
   "id": "8ca54d5f",
   "metadata": {},
   "source": [
    "Nesta etapa são importadas e baixadas as bibliotecas e pacotes das mesmas, necessárias para as análises, gráficos, funções e para gerar o modelo Bag of Words."
   ]
  },
  {
   "cell_type": "code",
   "execution_count": 93,
   "id": "073d92eb",
   "metadata": {
    "scrolled": false
   },
   "outputs": [
    {
     "name": "stdout",
     "output_type": "stream",
     "text": [
      "Requirement already satisfied: openpyxl in c:\\users\\eduar\\appdata\\local\\programs\\python\\python311\\lib\\site-packages (3.1.2)\n",
      "Requirement already satisfied: et-xmlfile in c:\\users\\eduar\\appdata\\local\\programs\\python\\python311\\lib\\site-packages (from openpyxl) (1.1.0)\n",
      "Note: you may need to restart the kernel to use updated packages.\n"
     ]
    },
    {
     "name": "stderr",
     "output_type": "stream",
     "text": [
      "\n",
      "[notice] A new release of pip is available: 23.1.1 -> 23.1.2\n",
      "[notice] To update, run: python.exe -m pip install --upgrade pip\n"
     ]
    }
   ],
   "source": [
    "pip install openpyxl\n"
   ]
  },
  {
   "cell_type": "code",
   "execution_count": 94,
   "id": "90884182",
   "metadata": {},
   "outputs": [
    {
     "name": "stdout",
     "output_type": "stream",
     "text": [
      "Note: you may need to restart the kernel to use updated packages.Requirement already satisfied: scikit-learn in c:\\users\\eduar\\appdata\\local\\programs\\python\\python311\\lib\\site-packages (1.2.2)\n",
      "Requirement already satisfied: numpy>=1.17.3 in c:\\users\\eduar\\appdata\\local\\programs\\python\\python311\\lib\\site-packages (from scikit-learn) (1.23.5)\n",
      "Requirement already satisfied: scipy>=1.3.2 in c:\\users\\eduar\\appdata\\local\\programs\\python\\python311\\lib\\site-packages (from scikit-learn) (1.10.1)\n",
      "Requirement already satisfied: joblib>=1.1.1 in c:\\users\\eduar\\appdata\\local\\programs\\python\\python311\\lib\\site-packages (from scikit-learn) (1.2.0)\n",
      "Requirement already satisfied: threadpoolctl>=2.0.0 in c:\\users\\eduar\\appdata\\local\\programs\\python\\python311\\lib\\site-packages (from scikit-learn) (3.1.0)\n",
      "\n"
     ]
    },
    {
     "name": "stderr",
     "output_type": "stream",
     "text": [
      "\n",
      "[notice] A new release of pip is available: 23.1.1 -> 23.1.2\n",
      "[notice] To update, run: python.exe -m pip install --upgrade pip\n"
     ]
    }
   ],
   "source": [
    "pip install scikit-learn"
   ]
  },
  {
   "cell_type": "code",
   "execution_count": 95,
   "id": "792b6425",
   "metadata": {
    "scrolled": true
   },
   "outputs": [
    {
     "name": "stdout",
     "output_type": "stream",
     "text": [
      "Requirement already satisfied: keras in c:\\users\\eduar\\appdata\\local\\programs\\python\\python311\\lib\\site-packages (2.12.0)\n",
      "Note: you may need to restart the kernel to use updated packages.\n"
     ]
    },
    {
     "name": "stderr",
     "output_type": "stream",
     "text": [
      "\n",
      "[notice] A new release of pip is available: 23.1.1 -> 23.1.2\n",
      "[notice] To update, run: python.exe -m pip install --upgrade pip\n"
     ]
    }
   ],
   "source": [
    "pip install keras"
   ]
  },
  {
   "cell_type": "code",
   "execution_count": 96,
   "id": "6471d723",
   "metadata": {},
   "outputs": [
    {
     "name": "stdout",
     "output_type": "stream",
     "text": [
      "Requirement already satisfied: tensorflow in c:\\users\\eduar\\appdata\\local\\programs\\python\\python311\\lib\\site-packages (2.12.0)Note: you may need to restart the kernel to use updated packages.\n",
      "\n",
      "Requirement already satisfied: tensorflow-intel==2.12.0 in c:\\users\\eduar\\appdata\\local\\programs\\python\\python311\\lib\\site-packages (from tensorflow) (2.12.0)\n",
      "Requirement already satisfied: absl-py>=1.0.0 in c:\\users\\eduar\\appdata\\local\\programs\\python\\python311\\lib\\site-packages (from tensorflow-intel==2.12.0->tensorflow) (1.4.0)\n",
      "Requirement already satisfied: astunparse>=1.6.0 in c:\\users\\eduar\\appdata\\local\\programs\\python\\python311\\lib\\site-packages (from tensorflow-intel==2.12.0->tensorflow) (1.6.3)\n",
      "Requirement already satisfied: flatbuffers>=2.0 in c:\\users\\eduar\\appdata\\local\\programs\\python\\python311\\lib\\site-packages (from tensorflow-intel==2.12.0->tensorflow) (23.3.3)\n",
      "Requirement already satisfied: gast<=0.4.0,>=0.2.1 in c:\\users\\eduar\\appdata\\local\\programs\\python\\python311\\lib\\site-packages (from tensorflow-intel==2.12.0->tensorflow) (0.4.0)\n",
      "Requirement already satisfied: google-pasta>=0.1.1 in c:\\users\\eduar\\appdata\\local\\programs\\python\\python311\\lib\\site-packages (from tensorflow-intel==2.12.0->tensorflow) (0.2.0)\n",
      "Requirement already satisfied: h5py>=2.9.0 in c:\\users\\eduar\\appdata\\local\\programs\\python\\python311\\lib\\site-packages (from tensorflow-intel==2.12.0->tensorflow) (3.8.0)\n",
      "Requirement already satisfied: jax>=0.3.15 in c:\\users\\eduar\\appdata\\local\\programs\\python\\python311\\lib\\site-packages (from tensorflow-intel==2.12.0->tensorflow) (0.4.8)\n",
      "Requirement already satisfied: libclang>=13.0.0 in c:\\users\\eduar\\appdata\\local\\programs\\python\\python311\\lib\\site-packages (from tensorflow-intel==2.12.0->tensorflow) (16.0.0)\n",
      "Requirement already satisfied: numpy<1.24,>=1.22 in c:\\users\\eduar\\appdata\\local\\programs\\python\\python311\\lib\\site-packages (from tensorflow-intel==2.12.0->tensorflow) (1.23.5)\n",
      "Requirement already satisfied: opt-einsum>=2.3.2 in c:\\users\\eduar\\appdata\\local\\programs\\python\\python311\\lib\\site-packages (from tensorflow-intel==2.12.0->tensorflow) (3.3.0)\n",
      "Requirement already satisfied: packaging in c:\\users\\eduar\\appdata\\roaming\\python\\python311\\site-packages (from tensorflow-intel==2.12.0->tensorflow) (23.1)\n",
      "Requirement already satisfied: protobuf!=4.21.0,!=4.21.1,!=4.21.2,!=4.21.3,!=4.21.4,!=4.21.5,<5.0.0dev,>=3.20.3 in c:\\users\\eduar\\appdata\\local\\programs\\python\\python311\\lib\\site-packages (from tensorflow-intel==2.12.0->tensorflow) (4.22.4)\n",
      "Requirement already satisfied: setuptools in c:\\users\\eduar\\appdata\\local\\programs\\python\\python311\\lib\\site-packages (from tensorflow-intel==2.12.0->tensorflow) (65.5.0)\n",
      "Requirement already satisfied: six>=1.12.0 in c:\\users\\eduar\\appdata\\roaming\\python\\python311\\site-packages (from tensorflow-intel==2.12.0->tensorflow) (1.16.0)\n",
      "Requirement already satisfied: termcolor>=1.1.0 in c:\\users\\eduar\\appdata\\local\\programs\\python\\python311\\lib\\site-packages (from tensorflow-intel==2.12.0->tensorflow) (2.3.0)\n",
      "Requirement already satisfied: typing-extensions>=3.6.6 in c:\\users\\eduar\\appdata\\local\\programs\\python\\python311\\lib\\site-packages (from tensorflow-intel==2.12.0->tensorflow) (4.5.0)\n",
      "Requirement already satisfied: wrapt<1.15,>=1.11.0 in c:\\users\\eduar\\appdata\\local\\programs\\python\\python311\\lib\\site-packages (from tensorflow-intel==2.12.0->tensorflow) (1.14.1)\n",
      "Requirement already satisfied: grpcio<2.0,>=1.24.3 in c:\\users\\eduar\\appdata\\local\\programs\\python\\python311\\lib\\site-packages (from tensorflow-intel==2.12.0->tensorflow) (1.54.0)\n",
      "Requirement already satisfied: tensorboard<2.13,>=2.12 in c:\\users\\eduar\\appdata\\local\\programs\\python\\python311\\lib\\site-packages (from tensorflow-intel==2.12.0->tensorflow) (2.12.3)\n",
      "Requirement already satisfied: tensorflow-estimator<2.13,>=2.12.0 in c:\\users\\eduar\\appdata\\local\\programs\\python\\python311\\lib\\site-packages (from tensorflow-intel==2.12.0->tensorflow) (2.12.0)\n",
      "Requirement already satisfied: keras<2.13,>=2.12.0 in c:\\users\\eduar\\appdata\\local\\programs\\python\\python311\\lib\\site-packages (from tensorflow-intel==2.12.0->tensorflow) (2.12.0)\n",
      "Requirement already satisfied: tensorflow-io-gcs-filesystem>=0.23.1 in c:\\users\\eduar\\appdata\\local\\programs\\python\\python311\\lib\\site-packages (from tensorflow-intel==2.12.0->tensorflow) (0.31.0)\n",
      "Requirement already satisfied: wheel<1.0,>=0.23.0 in c:\\users\\eduar\\appdata\\local\\programs\\python\\python311\\lib\\site-packages (from astunparse>=1.6.0->tensorflow-intel==2.12.0->tensorflow) (0.40.0)\n",
      "Requirement already satisfied: ml-dtypes>=0.0.3 in c:\\users\\eduar\\appdata\\local\\programs\\python\\python311\\lib\\site-packages (from jax>=0.3.15->tensorflow-intel==2.12.0->tensorflow) (0.1.0)\n",
      "Requirement already satisfied: scipy>=1.7 in c:\\users\\eduar\\appdata\\local\\programs\\python\\python311\\lib\\site-packages (from jax>=0.3.15->tensorflow-intel==2.12.0->tensorflow) (1.10.1)\n",
      "Requirement already satisfied: google-auth<3,>=1.6.3 in c:\\users\\eduar\\appdata\\local\\programs\\python\\python311\\lib\\site-packages (from tensorboard<2.13,>=2.12->tensorflow-intel==2.12.0->tensorflow) (2.17.3)\n",
      "Requirement already satisfied: google-auth-oauthlib<1.1,>=0.5 in c:\\users\\eduar\\appdata\\local\\programs\\python\\python311\\lib\\site-packages (from tensorboard<2.13,>=2.12->tensorflow-intel==2.12.0->tensorflow) (1.0.0)\n",
      "Requirement already satisfied: markdown>=2.6.8 in c:\\users\\eduar\\appdata\\local\\programs\\python\\python311\\lib\\site-packages (from tensorboard<2.13,>=2.12->tensorflow-intel==2.12.0->tensorflow) (3.4.3)\n",
      "Requirement already satisfied: requests<3,>=2.21.0 in c:\\users\\eduar\\appdata\\local\\programs\\python\\python311\\lib\\site-packages (from tensorboard<2.13,>=2.12->tensorflow-intel==2.12.0->tensorflow) (2.28.2)\n",
      "Requirement already satisfied: tensorboard-data-server<0.8.0,>=0.7.0 in c:\\users\\eduar\\appdata\\local\\programs\\python\\python311\\lib\\site-packages (from tensorboard<2.13,>=2.12->tensorflow-intel==2.12.0->tensorflow) (0.7.0)\n",
      "Requirement already satisfied: werkzeug>=1.0.1 in c:\\users\\eduar\\appdata\\local\\programs\\python\\python311\\lib\\site-packages (from tensorboard<2.13,>=2.12->tensorflow-intel==2.12.0->tensorflow) (2.3.3)\n",
      "Requirement already satisfied: cachetools<6.0,>=2.0.0 in c:\\users\\eduar\\appdata\\local\\programs\\python\\python311\\lib\\site-packages (from google-auth<3,>=1.6.3->tensorboard<2.13,>=2.12->tensorflow-intel==2.12.0->tensorflow) (5.3.0)\n",
      "Requirement already satisfied: pyasn1-modules>=0.2.1 in c:\\users\\eduar\\appdata\\local\\programs\\python\\python311\\lib\\site-packages (from google-auth<3,>=1.6.3->tensorboard<2.13,>=2.12->tensorflow-intel==2.12.0->tensorflow) (0.3.0)\n",
      "Requirement already satisfied: rsa<5,>=3.1.4 in c:\\users\\eduar\\appdata\\local\\programs\\python\\python311\\lib\\site-packages (from google-auth<3,>=1.6.3->tensorboard<2.13,>=2.12->tensorflow-intel==2.12.0->tensorflow) (4.9)\n",
      "Requirement already satisfied: requests-oauthlib>=0.7.0 in c:\\users\\eduar\\appdata\\local\\programs\\python\\python311\\lib\\site-packages (from google-auth-oauthlib<1.1,>=0.5->tensorboard<2.13,>=2.12->tensorflow-intel==2.12.0->tensorflow) (1.3.1)\n",
      "Requirement already satisfied: charset-normalizer<4,>=2 in c:\\users\\eduar\\appdata\\local\\programs\\python\\python311\\lib\\site-packages (from requests<3,>=2.21.0->tensorboard<2.13,>=2.12->tensorflow-intel==2.12.0->tensorflow) (3.1.0)\n",
      "Requirement already satisfied: idna<4,>=2.5 in c:\\users\\eduar\\appdata\\local\\programs\\python\\python311\\lib\\site-packages (from requests<3,>=2.21.0->tensorboard<2.13,>=2.12->tensorflow-intel==2.12.0->tensorflow) (3.4)\n",
      "Requirement already satisfied: urllib3<1.27,>=1.21.1 in c:\\users\\eduar\\appdata\\local\\programs\\python\\python311\\lib\\site-packages (from requests<3,>=2.21.0->tensorboard<2.13,>=2.12->tensorflow-intel==2.12.0->tensorflow) (1.26.15)\n",
      "Requirement already satisfied: certifi>=2017.4.17 in c:\\users\\eduar\\appdata\\local\\programs\\python\\python311\\lib\\site-packages (from requests<3,>=2.21.0->tensorboard<2.13,>=2.12->tensorflow-intel==2.12.0->tensorflow) (2022.12.7)\n",
      "Requirement already satisfied: MarkupSafe>=2.1.1 in c:\\users\\eduar\\appdata\\local\\programs\\python\\python311\\lib\\site-packages (from werkzeug>=1.0.1->tensorboard<2.13,>=2.12->tensorflow-intel==2.12.0->tensorflow) (2.1.2)\n",
      "Requirement already satisfied: pyasn1<0.6.0,>=0.4.6 in c:\\users\\eduar\\appdata\\local\\programs\\python\\python311\\lib\\site-packages (from pyasn1-modules>=0.2.1->google-auth<3,>=1.6.3->tensorboard<2.13,>=2.12->tensorflow-intel==2.12.0->tensorflow) (0.5.0)\n",
      "Requirement already satisfied: oauthlib>=3.0.0 in c:\\users\\eduar\\appdata\\local\\programs\\python\\python311\\lib\\site-packages (from requests-oauthlib>=0.7.0->google-auth-oauthlib<1.1,>=0.5->tensorboard<2.13,>=2.12->tensorflow-intel==2.12.0->tensorflow) (3.2.2)\n"
     ]
    },
    {
     "name": "stderr",
     "output_type": "stream",
     "text": [
      "\n",
      "[notice] A new release of pip is available: 23.1.1 -> 23.1.2\n",
      "[notice] To update, run: python.exe -m pip install --upgrade pip\n"
     ]
    }
   ],
   "source": [
    " pip install tensorflow"
   ]
  },
  {
   "cell_type": "code",
   "execution_count": 97,
   "id": "fdfac20a",
   "metadata": {},
   "outputs": [
    {
     "name": "stderr",
     "output_type": "stream",
     "text": [
      "[nltk_data] Downloading package punkt to\n",
      "[nltk_data]     C:\\Users\\eduar\\AppData\\Roaming\\nltk_data...\n",
      "[nltk_data]   Package punkt is already up-to-date!\n",
      "[nltk_data] Downloading package stopwords to\n",
      "[nltk_data]     C:\\Users\\eduar\\AppData\\Roaming\\nltk_data...\n",
      "[nltk_data]   Package stopwords is already up-to-date!\n"
     ]
    }
   ],
   "source": [
    "import numpy as np\n",
    "from nltk.corpus import stopwords\n",
    "from nltk.tokenize import word_tokenize\n",
    "from sklearn.feature_extraction.text import CountVectorizer\n",
    "from keras.preprocessing.text import Tokenizer\n",
    "nltk.download('punkt') \n",
    "nltk.download('stopwords') "
   ]
  },
  {
   "cell_type": "markdown",
   "id": "89a0bd89",
   "metadata": {},
   "source": [
    "### Processamento dos dados "
   ]
  },
  {
   "cell_type": "markdown",
   "id": "5f955c59",
   "metadata": {},
   "source": [
    "### Importando a planilha "
   ]
  },
  {
   "cell_type": "markdown",
   "id": "7ecbc070",
   "metadata": {},
   "source": [
    "Nesta váriavel é feito a importação da planilha que sera utilizada para gerar o bag of words"
   ]
  },
  {
   "cell_type": "code",
   "execution_count": 98,
   "id": "9dc835f9",
   "metadata": {},
   "outputs": [],
   "source": [
    "# Abrindo a base de dados \n",
    "df = pd.read_excel('../base/base.xlsx', index_col=0)"
   ]
  },
  {
   "cell_type": "markdown",
   "id": "df1d7025",
   "metadata": {},
   "source": [
    "### Pré processamento dos dados "
   ]
  },
  {
   "cell_type": "markdown",
   "id": "c1a40699",
   "metadata": {},
   "source": [
    "Nesta etapa o foco é limpar da base de dados os dados que não serão utilizados.\n",
    "Portanto, com essa função são removidos todos os comentários que tenham autoria do BTG Pactual e fotos de terceiros que marcavam a companhia.\n"
   ]
  },
  {
   "cell_type": "code",
   "execution_count": 99,
   "id": "897d5093",
   "metadata": {},
   "outputs": [],
   "source": [
    "# Esta função remove os dados que não serão utilizados para a análise\n",
    "def clean_data(df):\n",
    "    # Remove as aspas dos nomes das colunas\n",
    "    df = df.rename(columns=lambda x: x.replace('\\\"', ''))\n",
    "    # Remove comentários feito pelo btg\n",
    "    dfWithoutAutor = df[df[\"autor\"] != \"btgpactual\"]\n",
    "    # Remove comentários nulos\n",
    "    dfWithoutNull = dfWithoutAutor[dfWithoutAutor[\"autor\"].notnull()]\n",
    "    # Deixando apenas as interações do tipo comentário e resposta\n",
    "    dfFinal = dfWithoutNull.loc[(dfWithoutNull['tipoInteracao'] == 'comentário') | (dfWithoutNull['tipoInteracao'] == 'resposta')]\n",
    "    return dfFinal"
   ]
  },
  {
   "cell_type": "markdown",
   "id": "3a2a5e8c",
   "metadata": {},
   "source": [
    "#### Caso de teste"
   ]
  },
  {
   "cell_type": "code",
   "execution_count": 100,
   "id": "5836ba28",
   "metadata": {
    "scrolled": true
   },
   "outputs": [],
   "source": [
    "# Criando um data frame de teste para validar o pré processamento\n",
    "data_test = {'id': [1, 2, 3, 4, 5],\n",
    "             'dataPublicada': ['03/01/2022', '03/04/2022', '03/07/2022', '03/10/2022', '31/12/2022'],\n",
    "             'autor': ['btgpactual', 'robert87', 'grace46', 'william25', 'john23'],\n",
    "             'texto': [\"Obrigado, 🚀🚀💙\", \"Bom dia, gostaria de saber como faço pra conseguir falar com um atendente humanizado no chat do btg banking?\", \n",
    "                       \"Bom dia, preciso urgente do meu informe de rendimentos do BTLG11, para declaração do meu IR. Já enviei vários e-mails e até o momento sem resposta. Telefone ninguém atende. Como faço?\", \"Pessoal, sempre muito bom mas se eu puder solicitar uma coisa seria legendas 😅\", \"Sempre é aproveitoso parar o q tá fazendo para ouvi-lo\"],\n",
    "             'sentimento': ['NEUTRAL', 'NEUTRAL', 'NEGATIVE', 'POSITIVE', 'POSITIVE'],\n",
    "             'tipoInteracao': [\"comentário\", \"comentário\", \"comentário\", \"marcação\", \"comentário\"],\n",
    "             'anomalia': [1, 0, 0, 1, 1],\n",
    "             'probabilidadeAnomalia': [100, 20, 30, 100, 100],\n",
    "             'linkPost': ['https://www.instagram.com/p/CapXhB5Lvas/#17935401550894179', 'https://www.instagram.com/p/CaqBiRpsYLm/', 'https://www.instagram.com/p/CaqBiRpsYLm/', 'https://www.instagram.com/p/CapXhB5Lvas/#17926096268158628', 'https://www.instagram.com/p/CaR1j2TuPpD/#17914683365221503'],\n",
    "             'processado': [0,0,0,1,1],\n",
    "             'contemHyperlink': [0,0,0,1,1]}\n",
    "               \n",
    "df_testing = pd.DataFrame(data_test)\n"
   ]
  },
  {
   "cell_type": "code",
   "execution_count": 101,
   "id": "11b95df0",
   "metadata": {},
   "outputs": [],
   "source": [
    "# Testando a função\n",
    "clean_data_test = df_testing\n",
    "cleaning_test = clean_data(clean_data_test)"
   ]
  },
  {
   "cell_type": "markdown",
   "id": "7e4852b7",
   "metadata": {},
   "source": [
    "Os resultados foram colocados em células separadas para facilitar a visualização."
   ]
  },
  {
   "cell_type": "code",
   "execution_count": 102,
   "id": "85c6ed86",
   "metadata": {
    "scrolled": true
   },
   "outputs": [
    {
     "data": {
      "text/html": [
       "<div>\n",
       "<style scoped>\n",
       "    .dataframe tbody tr th:only-of-type {\n",
       "        vertical-align: middle;\n",
       "    }\n",
       "\n",
       "    .dataframe tbody tr th {\n",
       "        vertical-align: top;\n",
       "    }\n",
       "\n",
       "    .dataframe thead th {\n",
       "        text-align: right;\n",
       "    }\n",
       "</style>\n",
       "<table border=\"1\" class=\"dataframe\">\n",
       "  <thead>\n",
       "    <tr style=\"text-align: right;\">\n",
       "      <th></th>\n",
       "      <th>id</th>\n",
       "      <th>dataPublicada</th>\n",
       "      <th>autor</th>\n",
       "      <th>texto</th>\n",
       "      <th>sentimento</th>\n",
       "      <th>tipoInteracao</th>\n",
       "      <th>anomalia</th>\n",
       "      <th>probabilidadeAnomalia</th>\n",
       "      <th>linkPost</th>\n",
       "      <th>processado</th>\n",
       "      <th>contemHyperlink</th>\n",
       "    </tr>\n",
       "  </thead>\n",
       "  <tbody>\n",
       "    <tr>\n",
       "      <th>0</th>\n",
       "      <td>1</td>\n",
       "      <td>03/01/2022</td>\n",
       "      <td>btgpactual</td>\n",
       "      <td>Obrigado, 🚀🚀💙</td>\n",
       "      <td>NEUTRAL</td>\n",
       "      <td>comentário</td>\n",
       "      <td>1</td>\n",
       "      <td>100</td>\n",
       "      <td>https://www.instagram.com/p/CapXhB5Lvas/#17935...</td>\n",
       "      <td>0</td>\n",
       "      <td>0</td>\n",
       "    </tr>\n",
       "    <tr>\n",
       "      <th>1</th>\n",
       "      <td>2</td>\n",
       "      <td>03/04/2022</td>\n",
       "      <td>robert87</td>\n",
       "      <td>Bom dia, gostaria de saber como faço pra conse...</td>\n",
       "      <td>NEUTRAL</td>\n",
       "      <td>comentário</td>\n",
       "      <td>0</td>\n",
       "      <td>20</td>\n",
       "      <td>https://www.instagram.com/p/CaqBiRpsYLm/</td>\n",
       "      <td>0</td>\n",
       "      <td>0</td>\n",
       "    </tr>\n",
       "    <tr>\n",
       "      <th>2</th>\n",
       "      <td>3</td>\n",
       "      <td>03/07/2022</td>\n",
       "      <td>grace46</td>\n",
       "      <td>Bom dia, preciso urgente do meu informe de ren...</td>\n",
       "      <td>NEGATIVE</td>\n",
       "      <td>comentário</td>\n",
       "      <td>0</td>\n",
       "      <td>30</td>\n",
       "      <td>https://www.instagram.com/p/CaqBiRpsYLm/</td>\n",
       "      <td>0</td>\n",
       "      <td>0</td>\n",
       "    </tr>\n",
       "    <tr>\n",
       "      <th>3</th>\n",
       "      <td>4</td>\n",
       "      <td>03/10/2022</td>\n",
       "      <td>william25</td>\n",
       "      <td>Pessoal, sempre muito bom mas se eu puder soli...</td>\n",
       "      <td>POSITIVE</td>\n",
       "      <td>marcação</td>\n",
       "      <td>1</td>\n",
       "      <td>100</td>\n",
       "      <td>https://www.instagram.com/p/CapXhB5Lvas/#17926...</td>\n",
       "      <td>1</td>\n",
       "      <td>1</td>\n",
       "    </tr>\n",
       "    <tr>\n",
       "      <th>4</th>\n",
       "      <td>5</td>\n",
       "      <td>31/12/2022</td>\n",
       "      <td>john23</td>\n",
       "      <td>Sempre é aproveitoso parar o q tá fazendo para...</td>\n",
       "      <td>POSITIVE</td>\n",
       "      <td>comentário</td>\n",
       "      <td>1</td>\n",
       "      <td>100</td>\n",
       "      <td>https://www.instagram.com/p/CaR1j2TuPpD/#17914...</td>\n",
       "      <td>1</td>\n",
       "      <td>1</td>\n",
       "    </tr>\n",
       "  </tbody>\n",
       "</table>\n",
       "</div>"
      ],
      "text/plain": [
       "   id dataPublicada       autor   \n",
       "0   1    03/01/2022  btgpactual  \\\n",
       "1   2    03/04/2022    robert87   \n",
       "2   3    03/07/2022     grace46   \n",
       "3   4    03/10/2022   william25   \n",
       "4   5    31/12/2022      john23   \n",
       "\n",
       "                                               texto sentimento tipoInteracao   \n",
       "0                                      Obrigado, 🚀🚀💙    NEUTRAL    comentário  \\\n",
       "1  Bom dia, gostaria de saber como faço pra conse...    NEUTRAL    comentário   \n",
       "2  Bom dia, preciso urgente do meu informe de ren...   NEGATIVE    comentário   \n",
       "3  Pessoal, sempre muito bom mas se eu puder soli...   POSITIVE      marcação   \n",
       "4  Sempre é aproveitoso parar o q tá fazendo para...   POSITIVE    comentário   \n",
       "\n",
       "   anomalia  probabilidadeAnomalia   \n",
       "0         1                    100  \\\n",
       "1         0                     20   \n",
       "2         0                     30   \n",
       "3         1                    100   \n",
       "4         1                    100   \n",
       "\n",
       "                                            linkPost  processado   \n",
       "0  https://www.instagram.com/p/CapXhB5Lvas/#17935...           0  \\\n",
       "1           https://www.instagram.com/p/CaqBiRpsYLm/           0   \n",
       "2           https://www.instagram.com/p/CaqBiRpsYLm/           0   \n",
       "3  https://www.instagram.com/p/CapXhB5Lvas/#17926...           1   \n",
       "4  https://www.instagram.com/p/CaR1j2TuPpD/#17914...           1   \n",
       "\n",
       "   contemHyperlink  \n",
       "0                0  \n",
       "1                0  \n",
       "2                0  \n",
       "3                1  \n",
       "4                1  "
      ]
     },
     "execution_count": 102,
     "metadata": {},
     "output_type": "execute_result"
    }
   ],
   "source": [
    "# Entrada do caso de teste\n",
    "clean_data_test"
   ]
  },
  {
   "cell_type": "code",
   "execution_count": 103,
   "id": "4a6933fc",
   "metadata": {},
   "outputs": [
    {
     "data": {
      "text/html": [
       "<div>\n",
       "<style scoped>\n",
       "    .dataframe tbody tr th:only-of-type {\n",
       "        vertical-align: middle;\n",
       "    }\n",
       "\n",
       "    .dataframe tbody tr th {\n",
       "        vertical-align: top;\n",
       "    }\n",
       "\n",
       "    .dataframe thead th {\n",
       "        text-align: right;\n",
       "    }\n",
       "</style>\n",
       "<table border=\"1\" class=\"dataframe\">\n",
       "  <thead>\n",
       "    <tr style=\"text-align: right;\">\n",
       "      <th></th>\n",
       "      <th>id</th>\n",
       "      <th>dataPublicada</th>\n",
       "      <th>autor</th>\n",
       "      <th>texto</th>\n",
       "      <th>sentimento</th>\n",
       "      <th>tipoInteracao</th>\n",
       "      <th>anomalia</th>\n",
       "      <th>probabilidadeAnomalia</th>\n",
       "      <th>linkPost</th>\n",
       "      <th>processado</th>\n",
       "      <th>contemHyperlink</th>\n",
       "    </tr>\n",
       "  </thead>\n",
       "  <tbody>\n",
       "    <tr>\n",
       "      <th>1</th>\n",
       "      <td>2</td>\n",
       "      <td>03/04/2022</td>\n",
       "      <td>robert87</td>\n",
       "      <td>Bom dia, gostaria de saber como faço pra conse...</td>\n",
       "      <td>NEUTRAL</td>\n",
       "      <td>comentário</td>\n",
       "      <td>0</td>\n",
       "      <td>20</td>\n",
       "      <td>https://www.instagram.com/p/CaqBiRpsYLm/</td>\n",
       "      <td>0</td>\n",
       "      <td>0</td>\n",
       "    </tr>\n",
       "    <tr>\n",
       "      <th>2</th>\n",
       "      <td>3</td>\n",
       "      <td>03/07/2022</td>\n",
       "      <td>grace46</td>\n",
       "      <td>Bom dia, preciso urgente do meu informe de ren...</td>\n",
       "      <td>NEGATIVE</td>\n",
       "      <td>comentário</td>\n",
       "      <td>0</td>\n",
       "      <td>30</td>\n",
       "      <td>https://www.instagram.com/p/CaqBiRpsYLm/</td>\n",
       "      <td>0</td>\n",
       "      <td>0</td>\n",
       "    </tr>\n",
       "    <tr>\n",
       "      <th>4</th>\n",
       "      <td>5</td>\n",
       "      <td>31/12/2022</td>\n",
       "      <td>john23</td>\n",
       "      <td>Sempre é aproveitoso parar o q tá fazendo para...</td>\n",
       "      <td>POSITIVE</td>\n",
       "      <td>comentário</td>\n",
       "      <td>1</td>\n",
       "      <td>100</td>\n",
       "      <td>https://www.instagram.com/p/CaR1j2TuPpD/#17914...</td>\n",
       "      <td>1</td>\n",
       "      <td>1</td>\n",
       "    </tr>\n",
       "  </tbody>\n",
       "</table>\n",
       "</div>"
      ],
      "text/plain": [
       "   id dataPublicada     autor   \n",
       "1   2    03/04/2022  robert87  \\\n",
       "2   3    03/07/2022   grace46   \n",
       "4   5    31/12/2022    john23   \n",
       "\n",
       "                                               texto sentimento tipoInteracao   \n",
       "1  Bom dia, gostaria de saber como faço pra conse...    NEUTRAL    comentário  \\\n",
       "2  Bom dia, preciso urgente do meu informe de ren...   NEGATIVE    comentário   \n",
       "4  Sempre é aproveitoso parar o q tá fazendo para...   POSITIVE    comentário   \n",
       "\n",
       "   anomalia  probabilidadeAnomalia   \n",
       "1         0                     20  \\\n",
       "2         0                     30   \n",
       "4         1                    100   \n",
       "\n",
       "                                            linkPost  processado   \n",
       "1           https://www.instagram.com/p/CaqBiRpsYLm/           0  \\\n",
       "2           https://www.instagram.com/p/CaqBiRpsYLm/           0   \n",
       "4  https://www.instagram.com/p/CaR1j2TuPpD/#17914...           1   \n",
       "\n",
       "   contemHyperlink  \n",
       "1                0  \n",
       "2                0  \n",
       "4                1  "
      ]
     },
     "execution_count": 103,
     "metadata": {},
     "output_type": "execute_result"
    }
   ],
   "source": [
    "# Resultado do caso de teste\n",
    "cleaning_test"
   ]
  },
  {
   "cell_type": "markdown",
   "id": "7b3e05c9",
   "metadata": {},
   "source": [
    "##### Demonstração da função "
   ]
  },
  {
   "cell_type": "markdown",
   "id": "1fcc8002",
   "metadata": {},
   "source": [
    "Nesta etapa será demonstrado o funcionamento da função na base de dados real "
   ]
  },
  {
   "cell_type": "code",
   "execution_count": 104,
   "id": "7fc1f514",
   "metadata": {},
   "outputs": [
    {
     "data": {
      "text/html": [
       "<div>\n",
       "<style scoped>\n",
       "    .dataframe tbody tr th:only-of-type {\n",
       "        vertical-align: middle;\n",
       "    }\n",
       "\n",
       "    .dataframe tbody tr th {\n",
       "        vertical-align: top;\n",
       "    }\n",
       "\n",
       "    .dataframe thead th {\n",
       "        text-align: right;\n",
       "    }\n",
       "</style>\n",
       "<table border=\"1\" class=\"dataframe\">\n",
       "  <thead>\n",
       "    <tr style=\"text-align: right;\">\n",
       "      <th></th>\n",
       "      <th>dataPublicada</th>\n",
       "      <th>autor</th>\n",
       "      <th>texto</th>\n",
       "      <th>sentimento</th>\n",
       "      <th>tipoInteracao</th>\n",
       "      <th>anomalia</th>\n",
       "      <th>probabilidadeAnomalia</th>\n",
       "      <th>linkPost</th>\n",
       "      <th>processado</th>\n",
       "      <th>contemHyperlink</th>\n",
       "    </tr>\n",
       "    <tr>\n",
       "      <th>id</th>\n",
       "      <th></th>\n",
       "      <th></th>\n",
       "      <th></th>\n",
       "      <th></th>\n",
       "      <th></th>\n",
       "      <th></th>\n",
       "      <th></th>\n",
       "      <th></th>\n",
       "      <th></th>\n",
       "      <th></th>\n",
       "    </tr>\n",
       "  </thead>\n",
       "  <tbody>\n",
       "    <tr>\n",
       "      <th>4</th>\n",
       "      <td>\"2022-03-04 08:36:00\"</td>\n",
       "      <td>lmviapiana</td>\n",
       "      <td>Minuto touro de ouro</td>\n",
       "      <td>POSITIVE</td>\n",
       "      <td>comentário</td>\n",
       "      <td>0</td>\n",
       "      <td>38</td>\n",
       "      <td>https://www.instagram.com/p/CapXhB5Lvas/#17977...</td>\n",
       "      <td>0</td>\n",
       "      <td>0</td>\n",
       "    </tr>\n",
       "    <tr>\n",
       "      <th>5</th>\n",
       "      <td>\"2022-03-03 21:10:00\"</td>\n",
       "      <td>vanilson_dos</td>\n",
       "      <td>@ricktolledo Sim</td>\n",
       "      <td>NEUTRAL</td>\n",
       "      <td>resposta</td>\n",
       "      <td>0</td>\n",
       "      <td>17</td>\n",
       "      <td>https://www.instagram.com/p/CapXhB5Lvas/#17842...</td>\n",
       "      <td>0</td>\n",
       "      <td>0</td>\n",
       "    </tr>\n",
       "    <tr>\n",
       "      <th>6</th>\n",
       "      <td>\"2022-03-03 20:54:00\"</td>\n",
       "      <td>ricktolledo</td>\n",
       "      <td>Queria saber se a Btg banking é a própria btg ...</td>\n",
       "      <td>POSITIVE</td>\n",
       "      <td>comentário</td>\n",
       "      <td>0</td>\n",
       "      <td>20</td>\n",
       "      <td>https://www.instagram.com/p/CapXhB5Lvas/#17935...</td>\n",
       "      <td>0</td>\n",
       "      <td>0</td>\n",
       "    </tr>\n",
       "    <tr>\n",
       "      <th>11</th>\n",
       "      <td>\"2022-03-03 18:56:00\"</td>\n",
       "      <td>claudiofalavinha</td>\n",
       "      <td>@thaotinhasbfc</td>\n",
       "      <td>NEUTRAL</td>\n",
       "      <td>comentário</td>\n",
       "      <td>0</td>\n",
       "      <td>41</td>\n",
       "      <td>https://www.instagram.com/p/CapXhB5Lvas/#17942...</td>\n",
       "      <td>0</td>\n",
       "      <td>0</td>\n",
       "    </tr>\n",
       "    <tr>\n",
       "      <th>18</th>\n",
       "      <td>\"2022-03-03 16:11:00\"</td>\n",
       "      <td>paularodrigues.invest</td>\n",
       "      <td>👏👏👏👏</td>\n",
       "      <td>NEUTRAL</td>\n",
       "      <td>comentário</td>\n",
       "      <td>0</td>\n",
       "      <td>15</td>\n",
       "      <td>https://www.instagram.com/p/CaptWrtOT8U/#17943...</td>\n",
       "      <td>0</td>\n",
       "      <td>0</td>\n",
       "    </tr>\n",
       "    <tr>\n",
       "      <th>...</th>\n",
       "      <td>...</td>\n",
       "      <td>...</td>\n",
       "      <td>...</td>\n",
       "      <td>...</td>\n",
       "      <td>...</td>\n",
       "      <td>...</td>\n",
       "      <td>...</td>\n",
       "      <td>...</td>\n",
       "      <td>...</td>\n",
       "      <td>...</td>\n",
       "    </tr>\n",
       "    <tr>\n",
       "      <th>3042413</th>\n",
       "      <td>\"2022-11-30 07:48:00\"</td>\n",
       "      <td>perspectiveinvestimentos</td>\n",
       "      <td>Excelente explicação</td>\n",
       "      <td>POSITIVE</td>\n",
       "      <td>comentário</td>\n",
       "      <td>0</td>\n",
       "      <td>15</td>\n",
       "      <td>https://www.instagram.com/p/ClgWR-Ov2H1/#18001...</td>\n",
       "      <td>0</td>\n",
       "      <td>0</td>\n",
       "    </tr>\n",
       "    <tr>\n",
       "      <th>3042713</th>\n",
       "      <td>\"2022-11-30 08:42:00\"</td>\n",
       "      <td>marlenenelso</td>\n",
       "      <td>Porque  o brg tá  diminuído  o limite  do cart...</td>\n",
       "      <td>NEGATIVE</td>\n",
       "      <td>comentário</td>\n",
       "      <td>1</td>\n",
       "      <td>53</td>\n",
       "      <td>https://www.instagram.com/p/ClgWR-Ov2H1/#17878...</td>\n",
       "      <td>0</td>\n",
       "      <td>0</td>\n",
       "    </tr>\n",
       "    <tr>\n",
       "      <th>3043812</th>\n",
       "      <td>\"2022-11-30 11:27:00\"</td>\n",
       "      <td>eduardocolares</td>\n",
       "      <td>Atendam o telefone pelo amor de Deus</td>\n",
       "      <td>POSITIVE</td>\n",
       "      <td>comentário</td>\n",
       "      <td>0</td>\n",
       "      <td>28</td>\n",
       "      <td>https://www.instagram.com/p/CllkSBOuKlJ/#17960...</td>\n",
       "      <td>0</td>\n",
       "      <td>0</td>\n",
       "    </tr>\n",
       "    <tr>\n",
       "      <th>3044213</th>\n",
       "      <td>\"2022-11-30 12:18:00\"</td>\n",
       "      <td>jayipacderota</td>\n",
       "      <td>Estou muito grato por todo o esforço que você ...</td>\n",
       "      <td>POSITIVE</td>\n",
       "      <td>comentário</td>\n",
       "      <td>1</td>\n",
       "      <td>52</td>\n",
       "      <td>https://www.instagram.com/p/CllkSBOuKlJ/#17960...</td>\n",
       "      <td>0</td>\n",
       "      <td>0</td>\n",
       "    </tr>\n",
       "    <tr>\n",
       "      <th>3045012</th>\n",
       "      <td>\"2022-11-30 14:27:00\"</td>\n",
       "      <td>bfmarilia</td>\n",
       "      <td>@btgpactual pq o morning call não está mais ap...</td>\n",
       "      <td>NEGATIVE</td>\n",
       "      <td>comentário</td>\n",
       "      <td>0</td>\n",
       "      <td>28</td>\n",
       "      <td>https://www.instagram.com/p/CllkSBOuKlJ/#17975...</td>\n",
       "      <td>0</td>\n",
       "      <td>0</td>\n",
       "    </tr>\n",
       "  </tbody>\n",
       "</table>\n",
       "<p>6356 rows × 10 columns</p>\n",
       "</div>"
      ],
      "text/plain": [
       "                 dataPublicada                     autor   \n",
       "id                                                         \n",
       "4        \"2022-03-04 08:36:00\"                lmviapiana  \\\n",
       "5        \"2022-03-03 21:10:00\"              vanilson_dos   \n",
       "6        \"2022-03-03 20:54:00\"               ricktolledo   \n",
       "11       \"2022-03-03 18:56:00\"          claudiofalavinha   \n",
       "18       \"2022-03-03 16:11:00\"     paularodrigues.invest   \n",
       "...                        ...                       ...   \n",
       "3042413  \"2022-11-30 07:48:00\"  perspectiveinvestimentos   \n",
       "3042713  \"2022-11-30 08:42:00\"              marlenenelso   \n",
       "3043812  \"2022-11-30 11:27:00\"            eduardocolares   \n",
       "3044213  \"2022-11-30 12:18:00\"             jayipacderota   \n",
       "3045012  \"2022-11-30 14:27:00\"                 bfmarilia   \n",
       "\n",
       "                                                     texto sentimento   \n",
       "id                                                                      \n",
       "4                                     Minuto touro de ouro   POSITIVE  \\\n",
       "5                                         @ricktolledo Sim    NEUTRAL   \n",
       "6        Queria saber se a Btg banking é a própria btg ...   POSITIVE   \n",
       "11                                          @thaotinhasbfc    NEUTRAL   \n",
       "18                                                    👏👏👏👏    NEUTRAL   \n",
       "...                                                    ...        ...   \n",
       "3042413                               Excelente explicação   POSITIVE   \n",
       "3042713  Porque  o brg tá  diminuído  o limite  do cart...   NEGATIVE   \n",
       "3043812               Atendam o telefone pelo amor de Deus   POSITIVE   \n",
       "3044213  Estou muito grato por todo o esforço que você ...   POSITIVE   \n",
       "3045012  @btgpactual pq o morning call não está mais ap...   NEGATIVE   \n",
       "\n",
       "        tipoInteracao  anomalia  probabilidadeAnomalia   \n",
       "id                                                       \n",
       "4          comentário         0                     38  \\\n",
       "5            resposta         0                     17   \n",
       "6          comentário         0                     20   \n",
       "11         comentário         0                     41   \n",
       "18         comentário         0                     15   \n",
       "...               ...       ...                    ...   \n",
       "3042413    comentário         0                     15   \n",
       "3042713    comentário         1                     53   \n",
       "3043812    comentário         0                     28   \n",
       "3044213    comentário         1                     52   \n",
       "3045012    comentário         0                     28   \n",
       "\n",
       "                                                  linkPost  processado   \n",
       "id                                                                       \n",
       "4        https://www.instagram.com/p/CapXhB5Lvas/#17977...           0  \\\n",
       "5        https://www.instagram.com/p/CapXhB5Lvas/#17842...           0   \n",
       "6        https://www.instagram.com/p/CapXhB5Lvas/#17935...           0   \n",
       "11       https://www.instagram.com/p/CapXhB5Lvas/#17942...           0   \n",
       "18       https://www.instagram.com/p/CaptWrtOT8U/#17943...           0   \n",
       "...                                                    ...         ...   \n",
       "3042413  https://www.instagram.com/p/ClgWR-Ov2H1/#18001...           0   \n",
       "3042713  https://www.instagram.com/p/ClgWR-Ov2H1/#17878...           0   \n",
       "3043812  https://www.instagram.com/p/CllkSBOuKlJ/#17960...           0   \n",
       "3044213  https://www.instagram.com/p/CllkSBOuKlJ/#17960...           0   \n",
       "3045012  https://www.instagram.com/p/CllkSBOuKlJ/#17975...           0   \n",
       "\n",
       "         contemHyperlink  \n",
       "id                        \n",
       "4                      0  \n",
       "5                      0  \n",
       "6                      0  \n",
       "11                     0  \n",
       "18                     0  \n",
       "...                  ...  \n",
       "3042413                0  \n",
       "3042713                0  \n",
       "3043812                0  \n",
       "3044213                0  \n",
       "3045012                0  \n",
       "\n",
       "[6356 rows x 10 columns]"
      ]
     },
     "execution_count": 104,
     "metadata": {},
     "output_type": "execute_result"
    }
   ],
   "source": [
    "cleaning_output = clean_data(df)\n",
    "cleaning_output"
   ]
  },
  {
   "cell_type": "markdown",
   "id": "fc42a085",
   "metadata": {},
   "source": [
    "### Processamento dos dados"
   ]
  },
  {
   "cell_type": "markdown",
   "id": "18e3f8cd",
   "metadata": {},
   "source": [
    "Nesta etapa as frases são tokenizadas (cada palavra da frase é dividida, sendo 1 palavra = 1 token) e removidas as stop words, palavras que não acrescentam significado semântico relevante (e.g: de, para, ou). Além disso, é gerado uma nova coluna que contém os tratamento citados acima aplicado aos comentários (coluna 'texto'). \n"
   ]
  },
  {
   "cell_type": "code",
   "execution_count": 105,
   "id": "bf86924f",
   "metadata": {},
   "outputs": [],
   "source": [
    "def processing_comments(frase):\n",
    "    #divide as frases em palavras\n",
    "    palavras = frase.split() \n",
    "    #coloca todas as letras em minúsculas (lower) e remove as stop words\n",
    "    filtered_words = [word for word in palavras if word.lower() not in stop_words\n",
    "                        and not word.startswith('@') and word.isalpha()] \n",
    "    #tokeniza as palavras e organiza cada comentário em uma lista de palavras\n",
    "    tokens = word_tokenize(\" \".join(filtered_words)) \n",
    "    return tokens"
   ]
  },
  {
   "cell_type": "markdown",
   "id": "9493e481",
   "metadata": {},
   "source": [
    "#### Caso de teste"
   ]
  },
  {
   "cell_type": "code",
   "execution_count": 106,
   "id": "5769e930",
   "metadata": {},
   "outputs": [],
   "source": [
    "# Testando a função \n",
    "processing_test = cleaning_test['texto']\n",
    "tokenize_test = processing_test.apply(processing_comments)"
   ]
  },
  {
   "cell_type": "code",
   "execution_count": 107,
   "id": "5831c953",
   "metadata": {},
   "outputs": [
    {
     "data": {
      "text/plain": [
       "1    Bom dia, gostaria de saber como faço pra conse...\n",
       "2    Bom dia, preciso urgente do meu informe de ren...\n",
       "4    Sempre é aproveitoso parar o q tá fazendo para...\n",
       "Name: texto, dtype: object"
      ]
     },
     "execution_count": 107,
     "metadata": {},
     "output_type": "execute_result"
    }
   ],
   "source": [
    "# Input da função\n",
    "processing_test"
   ]
  },
  {
   "cell_type": "code",
   "execution_count": 108,
   "id": "82c8b396",
   "metadata": {},
   "outputs": [
    {
     "data": {
      "text/plain": [
       "1    [Bom, gostaria, saber, faço, pra, conseguir, f...\n",
       "2    [Bom, preciso, urgente, informe, rendimentos, ...\n",
       "4         [Sempre, aproveitoso, parar, q, tá, fazendo]\n",
       "Name: texto, dtype: object"
      ]
     },
     "execution_count": 108,
     "metadata": {},
     "output_type": "execute_result"
    }
   ],
   "source": [
    "# Resultado da função\n",
    "tokenize_test"
   ]
  },
  {
   "cell_type": "markdown",
   "id": "2b8044c2",
   "metadata": {},
   "source": [
    "##### Demonstração da função "
   ]
  },
  {
   "cell_type": "markdown",
   "id": "25839f92",
   "metadata": {},
   "source": [
    "Nesta etapa será demonstrado o funcionamento da função na base de dados real "
   ]
  },
  {
   "cell_type": "code",
   "execution_count": 109,
   "id": "63f6e1e5",
   "metadata": {},
   "outputs": [
    {
     "data": {
      "text/plain": [
       "id\n",
       "4                                      [Minuto, touro, ouro]\n",
       "5                                                      [Sim]\n",
       "6                [Queria, saber, Btg, banking, própria, btg]\n",
       "11                                                        []\n",
       "18                                                        []\n",
       "                                 ...                        \n",
       "3042413                              [Excelente, explicação]\n",
       "3042713    [Porque, brg, tá, diminuído, limite, cartão, s...\n",
       "3043812                      [Atendam, telefone, amor, Deus]\n",
       "3044213    [grato, todo, esforço, rendeu, investimento, a...\n",
       "3045012    [pq, morning, call, aparecendo, Spotify, dias,...\n",
       "Name: texto, Length: 6356, dtype: object"
      ]
     },
     "execution_count": 109,
     "metadata": {},
     "output_type": "execute_result"
    }
   ],
   "source": [
    "processing_output = cleaning_output['texto'].apply(processing_comments)\n",
    "processing_output"
   ]
  },
  {
   "cell_type": "markdown",
   "id": "ef5ae8fb",
   "metadata": {},
   "source": [
    "### Aplicação do modelo "
   ]
  },
  {
   "cell_type": "markdown",
   "id": "91974dc7",
   "metadata": {},
   "source": [
    "Durante esta etapa é feita a implementação do modelo Bag of Words, que vetoriza as palavras e faz a contagem de vezes que cada uma aparece na coluna a ser utilizada. Assim, tendo como resultado um dataframe com as palavras que mais aparecem no texto e sua respectiva frequência."
   ]
  },
  {
   "cell_type": "code",
   "execution_count": 110,
   "id": "b30c6f82",
   "metadata": {},
   "outputs": [],
   "source": [
    "def bow_dataframe(inputUser):\n",
    "    tokenizer = Tokenizer()\n",
    "    tokenizer.fit_on_texts(inputUser)\n",
    "    # Com essa variavel é possível ver as palavras e contar sua frequência\n",
    "    wordCount = tokenizer.word_counts    \n",
    "    dfCountBoW = pd.DataFrame(list(wordCount.items()))\n",
    "    dfCountBoW.rename(columns={0: \"Palavra\", 1:\"Frequência\"}, inplace=True)\n",
    "    final_df = dfCountBoW.sort_values(by=['Frequência'], ascending=False)\n",
    "    return final_df"
   ]
  },
  {
   "cell_type": "markdown",
   "id": "4ed0b8c7",
   "metadata": {},
   "source": [
    "#### Caso de teste"
   ]
  },
  {
   "cell_type": "code",
   "execution_count": 111,
   "id": "f89ed061",
   "metadata": {},
   "outputs": [],
   "source": [
    "# Testando a função \n",
    "bow_test = tokenize_test\n",
    "bow_test_result = bow_dataframe(tokenize_test)"
   ]
  },
  {
   "cell_type": "code",
   "execution_count": 112,
   "id": "24831188",
   "metadata": {},
   "outputs": [
    {
     "data": {
      "text/plain": [
       "1    [Bom, gostaria, saber, faço, pra, conseguir, f...\n",
       "2    [Bom, preciso, urgente, informe, rendimentos, ...\n",
       "4         [Sempre, aproveitoso, parar, q, tá, fazendo]\n",
       "Name: texto, dtype: object"
      ]
     },
     "execution_count": 112,
     "metadata": {},
     "output_type": "execute_result"
    }
   ],
   "source": [
    "# Input da função\n",
    "tokenize_test"
   ]
  },
  {
   "cell_type": "code",
   "execution_count": 113,
   "id": "ac1ec8da",
   "metadata": {},
   "outputs": [
    {
     "data": {
      "text/html": [
       "<div>\n",
       "<style scoped>\n",
       "    .dataframe tbody tr th:only-of-type {\n",
       "        vertical-align: middle;\n",
       "    }\n",
       "\n",
       "    .dataframe tbody tr th {\n",
       "        vertical-align: top;\n",
       "    }\n",
       "\n",
       "    .dataframe thead th {\n",
       "        text-align: right;\n",
       "    }\n",
       "</style>\n",
       "<table border=\"1\" class=\"dataframe\">\n",
       "  <thead>\n",
       "    <tr style=\"text-align: right;\">\n",
       "      <th></th>\n",
       "      <th>Palavra</th>\n",
       "      <th>Frequência</th>\n",
       "    </tr>\n",
       "  </thead>\n",
       "  <tbody>\n",
       "    <tr>\n",
       "      <th>0</th>\n",
       "      <td>bom</td>\n",
       "      <td>2</td>\n",
       "    </tr>\n",
       "    <tr>\n",
       "      <th>14</th>\n",
       "      <td>rendimentos</td>\n",
       "      <td>1</td>\n",
       "    </tr>\n",
       "    <tr>\n",
       "      <th>25</th>\n",
       "      <td>tá</td>\n",
       "      <td>1</td>\n",
       "    </tr>\n",
       "    <tr>\n",
       "      <th>24</th>\n",
       "      <td>q</td>\n",
       "      <td>1</td>\n",
       "    </tr>\n",
       "    <tr>\n",
       "      <th>23</th>\n",
       "      <td>parar</td>\n",
       "      <td>1</td>\n",
       "    </tr>\n",
       "  </tbody>\n",
       "</table>\n",
       "</div>"
      ],
      "text/plain": [
       "        Palavra  Frequência\n",
       "0           bom           2\n",
       "14  rendimentos           1\n",
       "25           tá           1\n",
       "24            q           1\n",
       "23        parar           1"
      ]
     },
     "execution_count": 113,
     "metadata": {},
     "output_type": "execute_result"
    }
   ],
   "source": [
    "# Output da função\n",
    "bow_test_result.head(5)"
   ]
  },
  {
   "cell_type": "markdown",
   "id": "d5189bf5",
   "metadata": {},
   "source": [
    "##### Demonstração da função "
   ]
  },
  {
   "cell_type": "markdown",
   "id": "22f7f6dd",
   "metadata": {},
   "source": [
    "Nesta etapa será demonstrado o funcionamento da função na base de dados real "
   ]
  },
  {
   "cell_type": "code",
   "execution_count": 114,
   "id": "4e24f229",
   "metadata": {
    "scrolled": true
   },
   "outputs": [
    {
     "data": {
      "text/html": [
       "<div>\n",
       "<style scoped>\n",
       "    .dataframe tbody tr th:only-of-type {\n",
       "        vertical-align: middle;\n",
       "    }\n",
       "\n",
       "    .dataframe tbody tr th {\n",
       "        vertical-align: top;\n",
       "    }\n",
       "\n",
       "    .dataframe thead th {\n",
       "        text-align: right;\n",
       "    }\n",
       "</style>\n",
       "<table border=\"1\" class=\"dataframe\">\n",
       "  <thead>\n",
       "    <tr style=\"text-align: right;\">\n",
       "      <th></th>\n",
       "      <th>Palavra</th>\n",
       "      <th>Frequência</th>\n",
       "    </tr>\n",
       "  </thead>\n",
       "  <tbody>\n",
       "    <tr>\n",
       "      <th>97</th>\n",
       "      <td>banco</td>\n",
       "      <td>475</td>\n",
       "    </tr>\n",
       "    <tr>\n",
       "      <th>6</th>\n",
       "      <td>btg</td>\n",
       "      <td>408</td>\n",
       "    </tr>\n",
       "    <tr>\n",
       "      <th>66</th>\n",
       "      <td>pra</td>\n",
       "      <td>386</td>\n",
       "    </tr>\n",
       "    <tr>\n",
       "      <th>590</th>\n",
       "      <td>limite</td>\n",
       "      <td>363</td>\n",
       "    </tr>\n",
       "    <tr>\n",
       "      <th>16</th>\n",
       "      <td>conta</td>\n",
       "      <td>319</td>\n",
       "    </tr>\n",
       "    <tr>\n",
       "      <th>299</th>\n",
       "      <td>cartão</td>\n",
       "      <td>310</td>\n",
       "    </tr>\n",
       "    <tr>\n",
       "      <th>188</th>\n",
       "      <td>melhor</td>\n",
       "      <td>228</td>\n",
       "    </tr>\n",
       "    <tr>\n",
       "      <th>149</th>\n",
       "      <td>agora</td>\n",
       "      <td>218</td>\n",
       "    </tr>\n",
       "    <tr>\n",
       "      <th>32</th>\n",
       "      <td>sempre</td>\n",
       "      <td>181</td>\n",
       "    </tr>\n",
       "    <tr>\n",
       "      <th>235</th>\n",
       "      <td>fazer</td>\n",
       "      <td>172</td>\n",
       "    </tr>\n",
       "  </tbody>\n",
       "</table>\n",
       "</div>"
      ],
      "text/plain": [
       "    Palavra  Frequência\n",
       "97    banco         475\n",
       "6       btg         408\n",
       "66      pra         386\n",
       "590  limite         363\n",
       "16    conta         319\n",
       "299  cartão         310\n",
       "188  melhor         228\n",
       "149   agora         218\n",
       "32   sempre         181\n",
       "235   fazer         172"
      ]
     },
     "execution_count": 114,
     "metadata": {},
     "output_type": "execute_result"
    }
   ],
   "source": [
    "result_output = bow_dataframe(processing_output)\n",
    "result_output.head(10)"
   ]
  },
  {
   "cell_type": "markdown",
   "id": "8c3cb010",
   "metadata": {},
   "source": [
    "### Pipeline de processamento completo"
   ]
  },
  {
   "cell_type": "markdown",
   "id": "d173a9f8",
   "metadata": {},
   "source": [
    "Nesta etapa há todo o processamento da planilha em apenas uma função que retorna um csv completo das palavras já tokenizadas."
   ]
  },
  {
   "cell_type": "code",
   "execution_count": 115,
   "id": "46c2cce2",
   "metadata": {},
   "outputs": [],
   "source": [
    "#Função para rodar nosso modelo de bag of words, essa função recebe um dataframe\n",
    "def pipeline(base):\n",
    "    #limpeza da base de dados\n",
    "    base1 = clean_data(base)\n",
    "    #tokenização da coluna de textos\n",
    "    base1['Frases_sem_stop_words'] = base1['texto'].apply(processing_comments)\n",
    "    return base1\n",
    "    "
   ]
  },
  {
   "cell_type": "markdown",
   "id": "57e2f2c6",
   "metadata": {},
   "source": [
    "#### Caso de teste"
   ]
  },
  {
   "cell_type": "code",
   "execution_count": 116,
   "id": "057970a2",
   "metadata": {},
   "outputs": [
    {
     "data": {
      "text/html": [
       "<div>\n",
       "<style scoped>\n",
       "    .dataframe tbody tr th:only-of-type {\n",
       "        vertical-align: middle;\n",
       "    }\n",
       "\n",
       "    .dataframe tbody tr th {\n",
       "        vertical-align: top;\n",
       "    }\n",
       "\n",
       "    .dataframe thead th {\n",
       "        text-align: right;\n",
       "    }\n",
       "</style>\n",
       "<table border=\"1\" class=\"dataframe\">\n",
       "  <thead>\n",
       "    <tr style=\"text-align: right;\">\n",
       "      <th></th>\n",
       "      <th>id</th>\n",
       "      <th>dataPublicada</th>\n",
       "      <th>autor</th>\n",
       "      <th>texto</th>\n",
       "      <th>sentimento</th>\n",
       "      <th>tipoInteracao</th>\n",
       "      <th>anomalia</th>\n",
       "      <th>probabilidadeAnomalia</th>\n",
       "      <th>linkPost</th>\n",
       "      <th>processado</th>\n",
       "      <th>contemHyperlink</th>\n",
       "    </tr>\n",
       "  </thead>\n",
       "  <tbody>\n",
       "    <tr>\n",
       "      <th>0</th>\n",
       "      <td>1</td>\n",
       "      <td>03/01/2022</td>\n",
       "      <td>btgpactual</td>\n",
       "      <td>Obrigado, 🚀🚀💙</td>\n",
       "      <td>NEUTRAL</td>\n",
       "      <td>comentário</td>\n",
       "      <td>1</td>\n",
       "      <td>100</td>\n",
       "      <td>https://www.instagram.com/p/CapXhB5Lvas/#17935...</td>\n",
       "      <td>0</td>\n",
       "      <td>0</td>\n",
       "    </tr>\n",
       "    <tr>\n",
       "      <th>1</th>\n",
       "      <td>2</td>\n",
       "      <td>03/04/2022</td>\n",
       "      <td>robert87</td>\n",
       "      <td>Bom dia, gostaria de saber como faço pra conse...</td>\n",
       "      <td>NEUTRAL</td>\n",
       "      <td>comentário</td>\n",
       "      <td>0</td>\n",
       "      <td>20</td>\n",
       "      <td>https://www.instagram.com/p/CaqBiRpsYLm/</td>\n",
       "      <td>0</td>\n",
       "      <td>0</td>\n",
       "    </tr>\n",
       "    <tr>\n",
       "      <th>2</th>\n",
       "      <td>3</td>\n",
       "      <td>03/07/2022</td>\n",
       "      <td>grace46</td>\n",
       "      <td>Bom dia, preciso urgente do meu informe de ren...</td>\n",
       "      <td>NEGATIVE</td>\n",
       "      <td>comentário</td>\n",
       "      <td>0</td>\n",
       "      <td>30</td>\n",
       "      <td>https://www.instagram.com/p/CaqBiRpsYLm/</td>\n",
       "      <td>0</td>\n",
       "      <td>0</td>\n",
       "    </tr>\n",
       "    <tr>\n",
       "      <th>3</th>\n",
       "      <td>4</td>\n",
       "      <td>03/10/2022</td>\n",
       "      <td>william25</td>\n",
       "      <td>Pessoal, sempre muito bom mas se eu puder soli...</td>\n",
       "      <td>POSITIVE</td>\n",
       "      <td>marcação</td>\n",
       "      <td>1</td>\n",
       "      <td>100</td>\n",
       "      <td>https://www.instagram.com/p/CapXhB5Lvas/#17926...</td>\n",
       "      <td>1</td>\n",
       "      <td>1</td>\n",
       "    </tr>\n",
       "    <tr>\n",
       "      <th>4</th>\n",
       "      <td>5</td>\n",
       "      <td>31/12/2022</td>\n",
       "      <td>john23</td>\n",
       "      <td>Sempre é aproveitoso parar o q tá fazendo para...</td>\n",
       "      <td>POSITIVE</td>\n",
       "      <td>comentário</td>\n",
       "      <td>1</td>\n",
       "      <td>100</td>\n",
       "      <td>https://www.instagram.com/p/CaR1j2TuPpD/#17914...</td>\n",
       "      <td>1</td>\n",
       "      <td>1</td>\n",
       "    </tr>\n",
       "  </tbody>\n",
       "</table>\n",
       "</div>"
      ],
      "text/plain": [
       "   id dataPublicada       autor   \n",
       "0   1    03/01/2022  btgpactual  \\\n",
       "1   2    03/04/2022    robert87   \n",
       "2   3    03/07/2022     grace46   \n",
       "3   4    03/10/2022   william25   \n",
       "4   5    31/12/2022      john23   \n",
       "\n",
       "                                               texto sentimento tipoInteracao   \n",
       "0                                      Obrigado, 🚀🚀💙    NEUTRAL    comentário  \\\n",
       "1  Bom dia, gostaria de saber como faço pra conse...    NEUTRAL    comentário   \n",
       "2  Bom dia, preciso urgente do meu informe de ren...   NEGATIVE    comentário   \n",
       "3  Pessoal, sempre muito bom mas se eu puder soli...   POSITIVE      marcação   \n",
       "4  Sempre é aproveitoso parar o q tá fazendo para...   POSITIVE    comentário   \n",
       "\n",
       "   anomalia  probabilidadeAnomalia   \n",
       "0         1                    100  \\\n",
       "1         0                     20   \n",
       "2         0                     30   \n",
       "3         1                    100   \n",
       "4         1                    100   \n",
       "\n",
       "                                            linkPost  processado   \n",
       "0  https://www.instagram.com/p/CapXhB5Lvas/#17935...           0  \\\n",
       "1           https://www.instagram.com/p/CaqBiRpsYLm/           0   \n",
       "2           https://www.instagram.com/p/CaqBiRpsYLm/           0   \n",
       "3  https://www.instagram.com/p/CapXhB5Lvas/#17926...           1   \n",
       "4  https://www.instagram.com/p/CaR1j2TuPpD/#17914...           1   \n",
       "\n",
       "   contemHyperlink  \n",
       "0                0  \n",
       "1                0  \n",
       "2                0  \n",
       "3                1  \n",
       "4                1  "
      ]
     },
     "execution_count": 116,
     "metadata": {},
     "output_type": "execute_result"
    }
   ],
   "source": [
    "#Entrada\n",
    "df_testing"
   ]
  },
  {
   "cell_type": "code",
   "execution_count": 117,
   "id": "564c34a3",
   "metadata": {},
   "outputs": [
    {
     "data": {
      "text/html": [
       "<div>\n",
       "<style scoped>\n",
       "    .dataframe tbody tr th:only-of-type {\n",
       "        vertical-align: middle;\n",
       "    }\n",
       "\n",
       "    .dataframe tbody tr th {\n",
       "        vertical-align: top;\n",
       "    }\n",
       "\n",
       "    .dataframe thead th {\n",
       "        text-align: right;\n",
       "    }\n",
       "</style>\n",
       "<table border=\"1\" class=\"dataframe\">\n",
       "  <thead>\n",
       "    <tr style=\"text-align: right;\">\n",
       "      <th></th>\n",
       "      <th>id</th>\n",
       "      <th>dataPublicada</th>\n",
       "      <th>autor</th>\n",
       "      <th>texto</th>\n",
       "      <th>sentimento</th>\n",
       "      <th>tipoInteracao</th>\n",
       "      <th>anomalia</th>\n",
       "      <th>probabilidadeAnomalia</th>\n",
       "      <th>linkPost</th>\n",
       "      <th>processado</th>\n",
       "      <th>contemHyperlink</th>\n",
       "      <th>Frases_sem_stop_words</th>\n",
       "    </tr>\n",
       "  </thead>\n",
       "  <tbody>\n",
       "    <tr>\n",
       "      <th>1</th>\n",
       "      <td>2</td>\n",
       "      <td>03/04/2022</td>\n",
       "      <td>robert87</td>\n",
       "      <td>Bom dia, gostaria de saber como faço pra conse...</td>\n",
       "      <td>NEUTRAL</td>\n",
       "      <td>comentário</td>\n",
       "      <td>0</td>\n",
       "      <td>20</td>\n",
       "      <td>https://www.instagram.com/p/CaqBiRpsYLm/</td>\n",
       "      <td>0</td>\n",
       "      <td>0</td>\n",
       "      <td>[Bom, gostaria, saber, faço, pra, conseguir, f...</td>\n",
       "    </tr>\n",
       "    <tr>\n",
       "      <th>2</th>\n",
       "      <td>3</td>\n",
       "      <td>03/07/2022</td>\n",
       "      <td>grace46</td>\n",
       "      <td>Bom dia, preciso urgente do meu informe de ren...</td>\n",
       "      <td>NEGATIVE</td>\n",
       "      <td>comentário</td>\n",
       "      <td>0</td>\n",
       "      <td>30</td>\n",
       "      <td>https://www.instagram.com/p/CaqBiRpsYLm/</td>\n",
       "      <td>0</td>\n",
       "      <td>0</td>\n",
       "      <td>[Bom, preciso, urgente, informe, rendimentos, ...</td>\n",
       "    </tr>\n",
       "    <tr>\n",
       "      <th>4</th>\n",
       "      <td>5</td>\n",
       "      <td>31/12/2022</td>\n",
       "      <td>john23</td>\n",
       "      <td>Sempre é aproveitoso parar o q tá fazendo para...</td>\n",
       "      <td>POSITIVE</td>\n",
       "      <td>comentário</td>\n",
       "      <td>1</td>\n",
       "      <td>100</td>\n",
       "      <td>https://www.instagram.com/p/CaR1j2TuPpD/#17914...</td>\n",
       "      <td>1</td>\n",
       "      <td>1</td>\n",
       "      <td>[Sempre, aproveitoso, parar, q, tá, fazendo]</td>\n",
       "    </tr>\n",
       "  </tbody>\n",
       "</table>\n",
       "</div>"
      ],
      "text/plain": [
       "   id dataPublicada     autor   \n",
       "1   2    03/04/2022  robert87  \\\n",
       "2   3    03/07/2022   grace46   \n",
       "4   5    31/12/2022    john23   \n",
       "\n",
       "                                               texto sentimento tipoInteracao   \n",
       "1  Bom dia, gostaria de saber como faço pra conse...    NEUTRAL    comentário  \\\n",
       "2  Bom dia, preciso urgente do meu informe de ren...   NEGATIVE    comentário   \n",
       "4  Sempre é aproveitoso parar o q tá fazendo para...   POSITIVE    comentário   \n",
       "\n",
       "   anomalia  probabilidadeAnomalia   \n",
       "1         0                     20  \\\n",
       "2         0                     30   \n",
       "4         1                    100   \n",
       "\n",
       "                                            linkPost  processado   \n",
       "1           https://www.instagram.com/p/CaqBiRpsYLm/           0  \\\n",
       "2           https://www.instagram.com/p/CaqBiRpsYLm/           0   \n",
       "4  https://www.instagram.com/p/CaR1j2TuPpD/#17914...           1   \n",
       "\n",
       "   contemHyperlink                              Frases_sem_stop_words  \n",
       "1                0  [Bom, gostaria, saber, faço, pra, conseguir, f...  \n",
       "2                0  [Bom, preciso, urgente, informe, rendimentos, ...  \n",
       "4                1       [Sempre, aproveitoso, parar, q, tá, fazendo]  "
      ]
     },
     "execution_count": 117,
     "metadata": {},
     "output_type": "execute_result"
    }
   ],
   "source": [
    "# Resultado da função Pipeline\n",
    "pipeline_output_test = pipeline(df_testing)\n",
    "pipeline_output_test"
   ]
  },
  {
   "cell_type": "markdown",
   "id": "5f8d644f",
   "metadata": {},
   "source": [
    "#### Baixar o resultado do modelo "
   ]
  },
  {
   "cell_type": "markdown",
   "id": "150cd758",
   "metadata": {},
   "source": [
    "##### Demonstração da função "
   ]
  },
  {
   "cell_type": "markdown",
   "id": "cef3e060",
   "metadata": {},
   "source": [
    "Nesta etapa sera gerado o resultado da função e retornando todo o tratamento da base"
   ]
  },
  {
   "cell_type": "code",
   "execution_count": 118,
   "id": "07d5bd5a",
   "metadata": {},
   "outputs": [
    {
     "data": {
      "text/html": [
       "<div>\n",
       "<style scoped>\n",
       "    .dataframe tbody tr th:only-of-type {\n",
       "        vertical-align: middle;\n",
       "    }\n",
       "\n",
       "    .dataframe tbody tr th {\n",
       "        vertical-align: top;\n",
       "    }\n",
       "\n",
       "    .dataframe thead th {\n",
       "        text-align: right;\n",
       "    }\n",
       "</style>\n",
       "<table border=\"1\" class=\"dataframe\">\n",
       "  <thead>\n",
       "    <tr style=\"text-align: right;\">\n",
       "      <th></th>\n",
       "      <th>dataPublicada</th>\n",
       "      <th>autor</th>\n",
       "      <th>texto</th>\n",
       "      <th>sentimento</th>\n",
       "      <th>tipoInteracao</th>\n",
       "      <th>anomalia</th>\n",
       "      <th>probabilidadeAnomalia</th>\n",
       "      <th>linkPost</th>\n",
       "      <th>processado</th>\n",
       "      <th>contemHyperlink</th>\n",
       "      <th>Frases_sem_stop_words</th>\n",
       "    </tr>\n",
       "    <tr>\n",
       "      <th>id</th>\n",
       "      <th></th>\n",
       "      <th></th>\n",
       "      <th></th>\n",
       "      <th></th>\n",
       "      <th></th>\n",
       "      <th></th>\n",
       "      <th></th>\n",
       "      <th></th>\n",
       "      <th></th>\n",
       "      <th></th>\n",
       "      <th></th>\n",
       "    </tr>\n",
       "  </thead>\n",
       "  <tbody>\n",
       "    <tr>\n",
       "      <th>4</th>\n",
       "      <td>\"2022-03-04 08:36:00\"</td>\n",
       "      <td>lmviapiana</td>\n",
       "      <td>Minuto touro de ouro</td>\n",
       "      <td>POSITIVE</td>\n",
       "      <td>comentário</td>\n",
       "      <td>0</td>\n",
       "      <td>38</td>\n",
       "      <td>https://www.instagram.com/p/CapXhB5Lvas/#17977...</td>\n",
       "      <td>0</td>\n",
       "      <td>0</td>\n",
       "      <td>[Minuto, touro, ouro]</td>\n",
       "    </tr>\n",
       "    <tr>\n",
       "      <th>5</th>\n",
       "      <td>\"2022-03-03 21:10:00\"</td>\n",
       "      <td>vanilson_dos</td>\n",
       "      <td>@ricktolledo Sim</td>\n",
       "      <td>NEUTRAL</td>\n",
       "      <td>resposta</td>\n",
       "      <td>0</td>\n",
       "      <td>17</td>\n",
       "      <td>https://www.instagram.com/p/CapXhB5Lvas/#17842...</td>\n",
       "      <td>0</td>\n",
       "      <td>0</td>\n",
       "      <td>[Sim]</td>\n",
       "    </tr>\n",
       "    <tr>\n",
       "      <th>6</th>\n",
       "      <td>\"2022-03-03 20:54:00\"</td>\n",
       "      <td>ricktolledo</td>\n",
       "      <td>Queria saber se a Btg banking é a própria btg ...</td>\n",
       "      <td>POSITIVE</td>\n",
       "      <td>comentário</td>\n",
       "      <td>0</td>\n",
       "      <td>20</td>\n",
       "      <td>https://www.instagram.com/p/CapXhB5Lvas/#17935...</td>\n",
       "      <td>0</td>\n",
       "      <td>0</td>\n",
       "      <td>[Queria, saber, Btg, banking, própria, btg]</td>\n",
       "    </tr>\n",
       "    <tr>\n",
       "      <th>11</th>\n",
       "      <td>\"2022-03-03 18:56:00\"</td>\n",
       "      <td>claudiofalavinha</td>\n",
       "      <td>@thaotinhasbfc</td>\n",
       "      <td>NEUTRAL</td>\n",
       "      <td>comentário</td>\n",
       "      <td>0</td>\n",
       "      <td>41</td>\n",
       "      <td>https://www.instagram.com/p/CapXhB5Lvas/#17942...</td>\n",
       "      <td>0</td>\n",
       "      <td>0</td>\n",
       "      <td>[]</td>\n",
       "    </tr>\n",
       "    <tr>\n",
       "      <th>18</th>\n",
       "      <td>\"2022-03-03 16:11:00\"</td>\n",
       "      <td>paularodrigues.invest</td>\n",
       "      <td>👏👏👏👏</td>\n",
       "      <td>NEUTRAL</td>\n",
       "      <td>comentário</td>\n",
       "      <td>0</td>\n",
       "      <td>15</td>\n",
       "      <td>https://www.instagram.com/p/CaptWrtOT8U/#17943...</td>\n",
       "      <td>0</td>\n",
       "      <td>0</td>\n",
       "      <td>[]</td>\n",
       "    </tr>\n",
       "    <tr>\n",
       "      <th>...</th>\n",
       "      <td>...</td>\n",
       "      <td>...</td>\n",
       "      <td>...</td>\n",
       "      <td>...</td>\n",
       "      <td>...</td>\n",
       "      <td>...</td>\n",
       "      <td>...</td>\n",
       "      <td>...</td>\n",
       "      <td>...</td>\n",
       "      <td>...</td>\n",
       "      <td>...</td>\n",
       "    </tr>\n",
       "    <tr>\n",
       "      <th>3042413</th>\n",
       "      <td>\"2022-11-30 07:48:00\"</td>\n",
       "      <td>perspectiveinvestimentos</td>\n",
       "      <td>Excelente explicação</td>\n",
       "      <td>POSITIVE</td>\n",
       "      <td>comentário</td>\n",
       "      <td>0</td>\n",
       "      <td>15</td>\n",
       "      <td>https://www.instagram.com/p/ClgWR-Ov2H1/#18001...</td>\n",
       "      <td>0</td>\n",
       "      <td>0</td>\n",
       "      <td>[Excelente, explicação]</td>\n",
       "    </tr>\n",
       "    <tr>\n",
       "      <th>3042713</th>\n",
       "      <td>\"2022-11-30 08:42:00\"</td>\n",
       "      <td>marlenenelso</td>\n",
       "      <td>Porque  o brg tá  diminuído  o limite  do cart...</td>\n",
       "      <td>NEGATIVE</td>\n",
       "      <td>comentário</td>\n",
       "      <td>1</td>\n",
       "      <td>53</td>\n",
       "      <td>https://www.instagram.com/p/ClgWR-Ov2H1/#17878...</td>\n",
       "      <td>0</td>\n",
       "      <td>0</td>\n",
       "      <td>[Porque, brg, tá, diminuído, limite, cartão, s...</td>\n",
       "    </tr>\n",
       "    <tr>\n",
       "      <th>3043812</th>\n",
       "      <td>\"2022-11-30 11:27:00\"</td>\n",
       "      <td>eduardocolares</td>\n",
       "      <td>Atendam o telefone pelo amor de Deus</td>\n",
       "      <td>POSITIVE</td>\n",
       "      <td>comentário</td>\n",
       "      <td>0</td>\n",
       "      <td>28</td>\n",
       "      <td>https://www.instagram.com/p/CllkSBOuKlJ/#17960...</td>\n",
       "      <td>0</td>\n",
       "      <td>0</td>\n",
       "      <td>[Atendam, telefone, amor, Deus]</td>\n",
       "    </tr>\n",
       "    <tr>\n",
       "      <th>3044213</th>\n",
       "      <td>\"2022-11-30 12:18:00\"</td>\n",
       "      <td>jayipacderota</td>\n",
       "      <td>Estou muito grato por todo o esforço que você ...</td>\n",
       "      <td>POSITIVE</td>\n",
       "      <td>comentário</td>\n",
       "      <td>1</td>\n",
       "      <td>52</td>\n",
       "      <td>https://www.instagram.com/p/CllkSBOuKlJ/#17960...</td>\n",
       "      <td>0</td>\n",
       "      <td>0</td>\n",
       "      <td>[grato, todo, esforço, rendeu, investimento, a...</td>\n",
       "    </tr>\n",
       "    <tr>\n",
       "      <th>3045012</th>\n",
       "      <td>\"2022-11-30 14:27:00\"</td>\n",
       "      <td>bfmarilia</td>\n",
       "      <td>@btgpactual pq o morning call não está mais ap...</td>\n",
       "      <td>NEGATIVE</td>\n",
       "      <td>comentário</td>\n",
       "      <td>0</td>\n",
       "      <td>28</td>\n",
       "      <td>https://www.instagram.com/p/CllkSBOuKlJ/#17975...</td>\n",
       "      <td>0</td>\n",
       "      <td>0</td>\n",
       "      <td>[pq, morning, call, aparecendo, Spotify, dias,...</td>\n",
       "    </tr>\n",
       "  </tbody>\n",
       "</table>\n",
       "<p>6356 rows × 11 columns</p>\n",
       "</div>"
      ],
      "text/plain": [
       "                 dataPublicada                     autor   \n",
       "id                                                         \n",
       "4        \"2022-03-04 08:36:00\"                lmviapiana  \\\n",
       "5        \"2022-03-03 21:10:00\"              vanilson_dos   \n",
       "6        \"2022-03-03 20:54:00\"               ricktolledo   \n",
       "11       \"2022-03-03 18:56:00\"          claudiofalavinha   \n",
       "18       \"2022-03-03 16:11:00\"     paularodrigues.invest   \n",
       "...                        ...                       ...   \n",
       "3042413  \"2022-11-30 07:48:00\"  perspectiveinvestimentos   \n",
       "3042713  \"2022-11-30 08:42:00\"              marlenenelso   \n",
       "3043812  \"2022-11-30 11:27:00\"            eduardocolares   \n",
       "3044213  \"2022-11-30 12:18:00\"             jayipacderota   \n",
       "3045012  \"2022-11-30 14:27:00\"                 bfmarilia   \n",
       "\n",
       "                                                     texto sentimento   \n",
       "id                                                                      \n",
       "4                                     Minuto touro de ouro   POSITIVE  \\\n",
       "5                                         @ricktolledo Sim    NEUTRAL   \n",
       "6        Queria saber se a Btg banking é a própria btg ...   POSITIVE   \n",
       "11                                          @thaotinhasbfc    NEUTRAL   \n",
       "18                                                    👏👏👏👏    NEUTRAL   \n",
       "...                                                    ...        ...   \n",
       "3042413                               Excelente explicação   POSITIVE   \n",
       "3042713  Porque  o brg tá  diminuído  o limite  do cart...   NEGATIVE   \n",
       "3043812               Atendam o telefone pelo amor de Deus   POSITIVE   \n",
       "3044213  Estou muito grato por todo o esforço que você ...   POSITIVE   \n",
       "3045012  @btgpactual pq o morning call não está mais ap...   NEGATIVE   \n",
       "\n",
       "        tipoInteracao  anomalia  probabilidadeAnomalia   \n",
       "id                                                       \n",
       "4          comentário         0                     38  \\\n",
       "5            resposta         0                     17   \n",
       "6          comentário         0                     20   \n",
       "11         comentário         0                     41   \n",
       "18         comentário         0                     15   \n",
       "...               ...       ...                    ...   \n",
       "3042413    comentário         0                     15   \n",
       "3042713    comentário         1                     53   \n",
       "3043812    comentário         0                     28   \n",
       "3044213    comentário         1                     52   \n",
       "3045012    comentário         0                     28   \n",
       "\n",
       "                                                  linkPost  processado   \n",
       "id                                                                       \n",
       "4        https://www.instagram.com/p/CapXhB5Lvas/#17977...           0  \\\n",
       "5        https://www.instagram.com/p/CapXhB5Lvas/#17842...           0   \n",
       "6        https://www.instagram.com/p/CapXhB5Lvas/#17935...           0   \n",
       "11       https://www.instagram.com/p/CapXhB5Lvas/#17942...           0   \n",
       "18       https://www.instagram.com/p/CaptWrtOT8U/#17943...           0   \n",
       "...                                                    ...         ...   \n",
       "3042413  https://www.instagram.com/p/ClgWR-Ov2H1/#18001...           0   \n",
       "3042713  https://www.instagram.com/p/ClgWR-Ov2H1/#17878...           0   \n",
       "3043812  https://www.instagram.com/p/CllkSBOuKlJ/#17960...           0   \n",
       "3044213  https://www.instagram.com/p/CllkSBOuKlJ/#17960...           0   \n",
       "3045012  https://www.instagram.com/p/CllkSBOuKlJ/#17975...           0   \n",
       "\n",
       "         contemHyperlink                              Frases_sem_stop_words  \n",
       "id                                                                           \n",
       "4                      0                              [Minuto, touro, ouro]  \n",
       "5                      0                                              [Sim]  \n",
       "6                      0        [Queria, saber, Btg, banking, própria, btg]  \n",
       "11                     0                                                 []  \n",
       "18                     0                                                 []  \n",
       "...                  ...                                                ...  \n",
       "3042413                0                            [Excelente, explicação]  \n",
       "3042713                0  [Porque, brg, tá, diminuído, limite, cartão, s...  \n",
       "3043812                0                    [Atendam, telefone, amor, Deus]  \n",
       "3044213                0  [grato, todo, esforço, rendeu, investimento, a...  \n",
       "3045012                0  [pq, morning, call, aparecendo, Spotify, dias,...  \n",
       "\n",
       "[6356 rows x 11 columns]"
      ]
     },
     "execution_count": 118,
     "metadata": {},
     "output_type": "execute_result"
    }
   ],
   "source": [
    "result_pipeline = pipeline(df)\n",
    "result_pipeline"
   ]
  },
  {
   "cell_type": "code",
   "execution_count": 119,
   "id": "bb98af2b",
   "metadata": {},
   "outputs": [],
   "source": [
    "# Para salvar o resultado final basta apenas descomentar a linha a seguir\n",
    "#result_pipeline.to_csv('..\\\\output\\\\Resultado-Processamento.csv',encoding='utf-8', index=False, header=True, )"
   ]
  },
  {
   "cell_type": "markdown",
   "id": "71f0d119",
   "metadata": {},
   "source": [
    "### Resultado completo"
   ]
  },
  {
   "cell_type": "markdown",
   "id": "48a9192d",
   "metadata": {},
   "source": [
    "Com todas etapas já feitas previamente, agora é a hora de rodar a limpeza dos dados e ter o resultado do bag of words."
   ]
  },
  {
   "cell_type": "code",
   "execution_count": 120,
   "id": "6d151f7a",
   "metadata": {},
   "outputs": [],
   "source": [
    "# Limpando os dados originais\n",
    "cleaned_df = pipeline(df)"
   ]
  },
  {
   "cell_type": "code",
   "execution_count": 121,
   "id": "6789323b",
   "metadata": {},
   "outputs": [
    {
     "data": {
      "text/html": [
       "<div>\n",
       "<style scoped>\n",
       "    .dataframe tbody tr th:only-of-type {\n",
       "        vertical-align: middle;\n",
       "    }\n",
       "\n",
       "    .dataframe tbody tr th {\n",
       "        vertical-align: top;\n",
       "    }\n",
       "\n",
       "    .dataframe thead th {\n",
       "        text-align: right;\n",
       "    }\n",
       "</style>\n",
       "<table border=\"1\" class=\"dataframe\">\n",
       "  <thead>\n",
       "    <tr style=\"text-align: right;\">\n",
       "      <th></th>\n",
       "      <th>Palavra</th>\n",
       "      <th>Frequência</th>\n",
       "    </tr>\n",
       "  </thead>\n",
       "  <tbody>\n",
       "    <tr>\n",
       "      <th>97</th>\n",
       "      <td>banco</td>\n",
       "      <td>475</td>\n",
       "    </tr>\n",
       "    <tr>\n",
       "      <th>6</th>\n",
       "      <td>btg</td>\n",
       "      <td>408</td>\n",
       "    </tr>\n",
       "    <tr>\n",
       "      <th>66</th>\n",
       "      <td>pra</td>\n",
       "      <td>386</td>\n",
       "    </tr>\n",
       "    <tr>\n",
       "      <th>590</th>\n",
       "      <td>limite</td>\n",
       "      <td>363</td>\n",
       "    </tr>\n",
       "    <tr>\n",
       "      <th>16</th>\n",
       "      <td>conta</td>\n",
       "      <td>319</td>\n",
       "    </tr>\n",
       "    <tr>\n",
       "      <th>299</th>\n",
       "      <td>cartão</td>\n",
       "      <td>310</td>\n",
       "    </tr>\n",
       "    <tr>\n",
       "      <th>188</th>\n",
       "      <td>melhor</td>\n",
       "      <td>228</td>\n",
       "    </tr>\n",
       "    <tr>\n",
       "      <th>149</th>\n",
       "      <td>agora</td>\n",
       "      <td>218</td>\n",
       "    </tr>\n",
       "    <tr>\n",
       "      <th>32</th>\n",
       "      <td>sempre</td>\n",
       "      <td>181</td>\n",
       "    </tr>\n",
       "    <tr>\n",
       "      <th>235</th>\n",
       "      <td>fazer</td>\n",
       "      <td>172</td>\n",
       "    </tr>\n",
       "  </tbody>\n",
       "</table>\n",
       "</div>"
      ],
      "text/plain": [
       "    Palavra  Frequência\n",
       "97    banco         475\n",
       "6       btg         408\n",
       "66      pra         386\n",
       "590  limite         363\n",
       "16    conta         319\n",
       "299  cartão         310\n",
       "188  melhor         228\n",
       "149   agora         218\n",
       "32   sempre         181\n",
       "235   fazer         172"
      ]
     },
     "execution_count": 121,
     "metadata": {},
     "output_type": "execute_result"
    }
   ],
   "source": [
    "# Resultado Bag of Words\n",
    "result_final = bow_dataframe(cleaned_df['Frases_sem_stop_words'])\n",
    "result_final.head(10)"
   ]
  }
 ],
 "metadata": {
  "kernelspec": {
   "display_name": "Python 3 (ipykernel)",
   "language": "python",
   "name": "python3"
  },
  "language_info": {
   "codemirror_mode": {
    "name": "ipython",
    "version": 3
   },
   "file_extension": ".py",
   "mimetype": "text/x-python",
   "name": "python",
   "nbconvert_exporter": "python",
   "pygments_lexer": "ipython3",
   "version": "3.11.3"
  }
 },
 "nbformat": 4,
 "nbformat_minor": 5
}
